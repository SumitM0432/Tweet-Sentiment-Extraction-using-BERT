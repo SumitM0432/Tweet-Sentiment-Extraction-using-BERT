{
 "cells": [
  {
   "cell_type": "code",
   "execution_count": 1,
   "id": "romantic-access",
   "metadata": {
    "execution": {
     "iopub.execute_input": "2021-04-20T17:40:05.986712Z",
     "iopub.status.busy": "2021-04-20T17:40:05.985248Z",
     "iopub.status.idle": "2021-04-20T17:40:13.730319Z",
     "shell.execute_reply": "2021-04-20T17:40:13.729080Z"
    },
    "papermill": {
     "duration": 7.76164,
     "end_time": "2021-04-20T17:40:13.730502",
     "exception": false,
     "start_time": "2021-04-20T17:40:05.968862",
     "status": "completed"
    },
    "tags": []
   },
   "outputs": [],
   "source": [
    "import torch\n",
    "import numpy as np\n",
    "import pandas as pd\n",
    "from tqdm import tqdm\n",
    "import tokenizers\n",
    "import re\n",
    "import torch.nn as nn\n",
    "import string\n",
    "import transformers\n",
    "from transformers import AdamW\n",
    "from transformers import get_linear_schedule_with_warmup\n",
    "from sklearn import model_selection"
   ]
  },
  {
   "cell_type": "code",
   "execution_count": 2,
   "id": "packed-maple",
   "metadata": {
    "execution": {
     "iopub.execute_input": "2021-04-20T17:40:13.813727Z",
     "iopub.status.busy": "2021-04-20T17:40:13.811973Z",
     "iopub.status.idle": "2021-04-20T17:40:13.814407Z",
     "shell.execute_reply": "2021-04-20T17:40:13.814802Z"
    },
    "papermill": {
     "duration": 0.071558,
     "end_time": "2021-04-20T17:40:13.814926",
     "exception": false,
     "start_time": "2021-04-20T17:40:13.743368",
     "status": "completed"
    },
    "tags": []
   },
   "outputs": [],
   "source": [
    "# config\n",
    "class config:\n",
    "    MAX_LEN = 128\n",
    "    TRAIN_BATCH_SIZE = 32\n",
    "    VALID_BATCH_SIZE = 16\n",
    "    EPOCHS = 50\n",
    "    BERT_PATH = 'bert-base-uncased'\n",
    "    MODEL_PATH = 'model.bin'\n",
    "    TRAINING_FILE = '../input/tweet-sentiment-extraction/train.csv'\n",
    "    TOKENIZER = tokenizers.BertWordPieceTokenizer(\n",
    "        '../input/berthub/assets/vocab.txt',\n",
    "        lowercase = True\n",
    "    )"
   ]
  },
  {
   "cell_type": "code",
   "execution_count": 3,
   "id": "administrative-parks",
   "metadata": {
    "execution": {
     "iopub.execute_input": "2021-04-20T17:40:13.856719Z",
     "iopub.status.busy": "2021-04-20T17:40:13.845503Z",
     "iopub.status.idle": "2021-04-20T17:40:13.859153Z",
     "shell.execute_reply": "2021-04-20T17:40:13.858737Z"
    },
    "papermill": {
     "duration": 0.03293,
     "end_time": "2021-04-20T17:40:13.859345",
     "exception": false,
     "start_time": "2021-04-20T17:40:13.826415",
     "status": "completed"
    },
    "tags": []
   },
   "outputs": [],
   "source": [
    "# Dataset\n",
    "class TweetDataset:\n",
    "    def __init__(self, tweet, sentiment, selected_text):\n",
    "        self.tweet = tweet\n",
    "        self.sentiment = sentiment\n",
    "        self.selected_text = selected_text\n",
    "        self.max_len = config.MAX_LEN\n",
    "        self.tokenizer = config.TOKENIZER\n",
    "    \n",
    "    def __len__(self):\n",
    "        return len(self.tweet)\n",
    "    \n",
    "    def __getitem__(self, item):\n",
    "        tweet = \" \".join(str(self.tweet[item]).split())\n",
    "        selected_text = \" \".join(str(self.selected_text[item]).split())\n",
    "\n",
    "        len_sel_text = len(selected_text)\n",
    "        idx0 = -1\n",
    "        idx1 = -1\n",
    "        \n",
    "        # used to find the starting and the ending index of the text\n",
    "        for ind in (i for i, e in enumerate(tweet) if e == selected_text[0]):\n",
    "            if tweet[ind: ind + len_sel_text] == selected_text:\n",
    "                idx0 = ind\n",
    "                idx1 = ind + len_sel_text - 1\n",
    "                break\n",
    "       \n",
    "        # have 1 if there`s character and 0 if there`s space\n",
    "        char_targets = [0]*len(tweet)\n",
    "        if idx0 != -1 and idx1 != -1:\n",
    "            for j in range(idx0, idx1 + 1):\n",
    "                if tweet[j] != \" \":\n",
    "                    char_targets[j] = 1\n",
    "        \n",
    "        # Encode\n",
    "        tok_tweet = self.tokenizer.encode(tweet)\n",
    "        tok_tweet_tokens = tok_tweet.tokens\n",
    "        tok_tweet_ids = tok_tweet.ids\n",
    "        tok_tweet_offsets = tok_tweet.offsets[1:-1]\n",
    "        \n",
    "        # Targets with -2 len for the tokens\n",
    "        targets = [0] * (len(tok_tweet_tokens) - 2)\n",
    "\n",
    "        # Checking if there`s characters between the offsets index\n",
    "        for j, (offset1, offset2) in enumerate(tok_tweet_offsets):\n",
    "            if sum(char_targets[offset1: offset2]) > 0:\n",
    "                targets[j] = 1\n",
    "\n",
    "        targets = [0] + targets + [0]\n",
    "        targets_start = [0] * len(targets)\n",
    "        targets_end = [0] * len(targets)\n",
    "\n",
    "        # Indicies of non zero values\n",
    "        non_zero = np.nonzero(targets)[0]\n",
    "\n",
    "        if len(non_zero) > 0:\n",
    "            targets_start[non_zero[0]] = 1\n",
    "            targets_end[non_zero[-1]] = 1\n",
    "\n",
    "        mask = [1]* len(tok_tweet_ids)\n",
    "        token_type_ids = [0]* len(tok_tweet_ids)\n",
    "\n",
    "        padding_len = self.max_len - len(tok_tweet_ids)\n",
    "        ids = tok_tweet_ids + [0]*padding_len\n",
    "        mask = mask + [0]*padding_len\n",
    "        token_type_ids = token_type_ids + [0]*padding_len\n",
    "        targets = targets + [0]*padding_len\n",
    "        targets_start = targets_start + [0]*padding_len\n",
    "        targets_end = targets_end + [0]*padding_len\n",
    "\n",
    "        sentiment = [1, 0, 0]\n",
    "        if self.sentiment[item] == 'positive':\n",
    "            sentiment = [0, 0, 1]\n",
    "        if self.sentiment[item] == 'negative':\n",
    "            sentiment = [0, 1, 0]\n",
    "        \n",
    "        return {\n",
    "            \"ids\" : torch.tensor(ids, dtype = torch.long),\n",
    "            \"mask\" : torch.tensor(mask, dtype = torch.long),\n",
    "            \"token_type_ids\" : torch.tensor(token_type_ids, dtype = torch.long),\n",
    "            \"targets\" : torch.tensor(targets, dtype = torch.long),\n",
    "            \"targets_start\" : torch.tensor(targets_start, dtype = torch.long),\n",
    "            \"targets_end\" : torch.tensor(targets_end, dtype = torch.long),\n",
    "            \"padding_len\" : torch.tensor(padding_len, dtype = torch.long),\n",
    "            \"sentiment\" : torch.tensor(sentiment, dtype = torch.long),\n",
    "            \"orig_tweet\" : self.tweet[item],\n",
    "            \"orig_sentiment\" : self.sentiment[item],\n",
    "            \"tweet_tokens\" : \" \".join(tok_tweet_tokens),\n",
    "            \"orig_selected\" : self.selected_text[item]\n",
    "            }"
   ]
  },
  {
   "cell_type": "code",
   "execution_count": 4,
   "id": "brilliant-market",
   "metadata": {
    "execution": {
     "iopub.execute_input": "2021-04-20T17:40:13.888941Z",
     "iopub.status.busy": "2021-04-20T17:40:13.888441Z",
     "iopub.status.idle": "2021-04-20T17:40:14.089697Z",
     "shell.execute_reply": "2021-04-20T17:40:14.090343Z"
    },
    "papermill": {
     "duration": 0.219646,
     "end_time": "2021-04-20T17:40:14.090533",
     "exception": false,
     "start_time": "2021-04-20T17:40:13.870887",
     "status": "completed"
    },
    "tags": []
   },
   "outputs": [
    {
     "name": "stdout",
     "output_type": "stream",
     "text": [
      "{'ids': tensor([  101, 17111,  2080,  6517,  1045,  2097,  3335,  2017,  2182,  1999,\n",
      "         2624,  5277,   999,   999,   999,   102,     0,     0,     0,     0,\n",
      "            0,     0,     0,     0,     0,     0,     0,     0,     0,     0,\n",
      "            0,     0,     0,     0,     0,     0,     0,     0,     0,     0,\n",
      "            0,     0,     0,     0,     0,     0,     0,     0,     0,     0,\n",
      "            0,     0,     0,     0,     0,     0,     0,     0,     0,     0,\n",
      "            0,     0,     0,     0,     0,     0,     0,     0,     0,     0,\n",
      "            0,     0,     0,     0,     0,     0,     0,     0,     0,     0,\n",
      "            0,     0,     0,     0,     0,     0,     0,     0,     0,     0,\n",
      "            0,     0,     0,     0,     0,     0,     0,     0,     0,     0,\n",
      "            0,     0,     0,     0,     0,     0,     0,     0,     0,     0,\n",
      "            0,     0,     0,     0,     0,     0,     0,     0,     0,     0,\n",
      "            0,     0,     0,     0,     0,     0,     0,     0]), 'mask': tensor([1, 1, 1, 1, 1, 1, 1, 1, 1, 1, 1, 1, 1, 1, 1, 1, 0, 0, 0, 0, 0, 0, 0, 0,\n",
      "        0, 0, 0, 0, 0, 0, 0, 0, 0, 0, 0, 0, 0, 0, 0, 0, 0, 0, 0, 0, 0, 0, 0, 0,\n",
      "        0, 0, 0, 0, 0, 0, 0, 0, 0, 0, 0, 0, 0, 0, 0, 0, 0, 0, 0, 0, 0, 0, 0, 0,\n",
      "        0, 0, 0, 0, 0, 0, 0, 0, 0, 0, 0, 0, 0, 0, 0, 0, 0, 0, 0, 0, 0, 0, 0, 0,\n",
      "        0, 0, 0, 0, 0, 0, 0, 0, 0, 0, 0, 0, 0, 0, 0, 0, 0, 0, 0, 0, 0, 0, 0, 0,\n",
      "        0, 0, 0, 0, 0, 0, 0, 0]), 'token_type_ids': tensor([0, 0, 0, 0, 0, 0, 0, 0, 0, 0, 0, 0, 0, 0, 0, 0, 0, 0, 0, 0, 0, 0, 0, 0,\n",
      "        0, 0, 0, 0, 0, 0, 0, 0, 0, 0, 0, 0, 0, 0, 0, 0, 0, 0, 0, 0, 0, 0, 0, 0,\n",
      "        0, 0, 0, 0, 0, 0, 0, 0, 0, 0, 0, 0, 0, 0, 0, 0, 0, 0, 0, 0, 0, 0, 0, 0,\n",
      "        0, 0, 0, 0, 0, 0, 0, 0, 0, 0, 0, 0, 0, 0, 0, 0, 0, 0, 0, 0, 0, 0, 0, 0,\n",
      "        0, 0, 0, 0, 0, 0, 0, 0, 0, 0, 0, 0, 0, 0, 0, 0, 0, 0, 0, 0, 0, 0, 0, 0,\n",
      "        0, 0, 0, 0, 0, 0, 0, 0]), 'targets': tensor([0, 1, 1, 1, 0, 0, 0, 0, 0, 0, 0, 0, 0, 0, 0, 0, 0, 0, 0, 0, 0, 0, 0, 0,\n",
      "        0, 0, 0, 0, 0, 0, 0, 0, 0, 0, 0, 0, 0, 0, 0, 0, 0, 0, 0, 0, 0, 0, 0, 0,\n",
      "        0, 0, 0, 0, 0, 0, 0, 0, 0, 0, 0, 0, 0, 0, 0, 0, 0, 0, 0, 0, 0, 0, 0, 0,\n",
      "        0, 0, 0, 0, 0, 0, 0, 0, 0, 0, 0, 0, 0, 0, 0, 0, 0, 0, 0, 0, 0, 0, 0, 0,\n",
      "        0, 0, 0, 0, 0, 0, 0, 0, 0, 0, 0, 0, 0, 0, 0, 0, 0, 0, 0, 0, 0, 0, 0, 0,\n",
      "        0, 0, 0, 0, 0, 0, 0, 0]), 'targets_start': tensor([0, 1, 0, 0, 0, 0, 0, 0, 0, 0, 0, 0, 0, 0, 0, 0, 0, 0, 0, 0, 0, 0, 0, 0,\n",
      "        0, 0, 0, 0, 0, 0, 0, 0, 0, 0, 0, 0, 0, 0, 0, 0, 0, 0, 0, 0, 0, 0, 0, 0,\n",
      "        0, 0, 0, 0, 0, 0, 0, 0, 0, 0, 0, 0, 0, 0, 0, 0, 0, 0, 0, 0, 0, 0, 0, 0,\n",
      "        0, 0, 0, 0, 0, 0, 0, 0, 0, 0, 0, 0, 0, 0, 0, 0, 0, 0, 0, 0, 0, 0, 0, 0,\n",
      "        0, 0, 0, 0, 0, 0, 0, 0, 0, 0, 0, 0, 0, 0, 0, 0, 0, 0, 0, 0, 0, 0, 0, 0,\n",
      "        0, 0, 0, 0, 0, 0, 0, 0]), 'targets_end': tensor([0, 0, 0, 1, 0, 0, 0, 0, 0, 0, 0, 0, 0, 0, 0, 0, 0, 0, 0, 0, 0, 0, 0, 0,\n",
      "        0, 0, 0, 0, 0, 0, 0, 0, 0, 0, 0, 0, 0, 0, 0, 0, 0, 0, 0, 0, 0, 0, 0, 0,\n",
      "        0, 0, 0, 0, 0, 0, 0, 0, 0, 0, 0, 0, 0, 0, 0, 0, 0, 0, 0, 0, 0, 0, 0, 0,\n",
      "        0, 0, 0, 0, 0, 0, 0, 0, 0, 0, 0, 0, 0, 0, 0, 0, 0, 0, 0, 0, 0, 0, 0, 0,\n",
      "        0, 0, 0, 0, 0, 0, 0, 0, 0, 0, 0, 0, 0, 0, 0, 0, 0, 0, 0, 0, 0, 0, 0, 0,\n",
      "        0, 0, 0, 0, 0, 0, 0, 0]), 'padding_len': tensor(112), 'sentiment': tensor([0, 1, 0]), 'orig_tweet': ' Sooo SAD I will miss you here in San Diego!!!', 'orig_sentiment': 'negative', 'tweet_tokens': '[CLS] soo ##o sad i will miss you here in san diego ! ! ! [SEP]', 'orig_selected': 'Sooo SAD'}\n"
     ]
    }
   ],
   "source": [
    "# Testing the tweet dataset\n",
    "df = pd.read_csv(config.TRAINING_FILE).dropna().reset_index(drop = True)\n",
    "dset = TweetDataset(\n",
    "tweet = df.text.values,\n",
    "sentiment = df.sentiment.values,\n",
    "selected_text = df.selected_text.values)\n",
    "print (dset[1])"
   ]
  },
  {
   "cell_type": "code",
   "execution_count": 5,
   "id": "naval-technician",
   "metadata": {
    "execution": {
     "iopub.execute_input": "2021-04-20T17:40:14.138093Z",
     "iopub.status.busy": "2021-04-20T17:40:14.124774Z",
     "iopub.status.idle": "2021-04-20T17:40:14.140541Z",
     "shell.execute_reply": "2021-04-20T17:40:14.140049Z"
    },
    "papermill": {
     "duration": 0.036806,
     "end_time": "2021-04-20T17:40:14.140644",
     "exception": false,
     "start_time": "2021-04-20T17:40:14.103838",
     "status": "completed"
    },
    "tags": []
   },
   "outputs": [],
   "source": [
    "# Contraction Dictionary for the expansion\n",
    "contractions_dict = {\n",
    "    \"ain`t\": \"am not\", \"aren`t\": \"are not\", \"can`t\": \"cannot\", \"can`t`ve\": \"cannot have\", \"`cause\": \"because\",\n",
    "    \"could`ve\": \"could have\", \"couldn`t\": \"could not\", \"couldn`t`ve\": \"could not have\", \"didn`t\": \"did not\", \"doesn`t\": \"does not\",\n",
    "    \"doesn’t\": \"does not\", \"don`t\": \"do not\", \"don’t\": \"do not\", \"hadn`t\": \"had not\", \"hadn`t`ve\": \"had not have\", \"hasn`t\": \"has not\",\n",
    "    \"haven`t\": \"have not\", \"he`d\": \"he had\", \"he`d`ve\": \"he would have\", \"he`ll\": \"he will\", \"he`ll`ve\": \"he will have\", \"he`s\": \"he is\",\n",
    "    \"how`d\": \"how did\", \"how`d`y\": \"how do you\", \"how`ll\": \"how will\", \"how`s\": \"how is\", \"i`d\": \"i would\", \"i`d`ve\": \"i would have\",\n",
    "    \"i`ll\": \"i will\", \"i`ll`ve\": \"i will have\", \"i`m\": \"i am\", \"i`ve\": \"i have\", \"isn`t\": \"is not\", \"it`d\": \"it would\", \"it`d`ve\": \"it would have\",\n",
    "    \"it`ll\": \"it will\", \"it`ll`ve\": \"it will have\", \"it`s\": \"it is\", \"let`s\": \"let us\", \"ma`am\": \"madam\", \"mayn`t\": \"may not\",\"might`ve\": \"might have\",\n",
    "    \"mightn`t\": \"might not\", \"mightn`t`ve\": \"might not have\", \"must`ve\": \"must have\", \"mustn`t\": \"must not\", \"mustn`t`ve\": \"must not have\",\n",
    "    \"needn`t\": \"need not\", \"needn`t`ve\": \"need not have\", \"o`clock\": \"of the clock\", \"oughtn`t\": \"ought not\", \"oughtn`t`ve\": \"ought not have\",\n",
    "    \"shan`t\": \"shall not\",\"sha`n`t\": \"shall not\", \"shan`t`ve\": \"shall not have\", \"she`d\": \"she would\", \"she`d`ve\": \"she would have\",\n",
    "    \"she`ll\": \"she will\", \"she`ll`ve\": \"she will have\", \"she`s\": \"she is\", \"should`ve\": \"should have\", \"shouldn`t\": \"should not\",\n",
    "    \"shouldn`t`ve\": \"should not have\", \"so`ve\": \"so have\", \"so`s\": \"so is\", \"that`d\": \"that would\", \"that`d`ve\": \"that would have\",\n",
    "    \"that`s\": \"that is\", \"there`d\": \"there would\", \"there`d`ve\": \"there would have\", \"there`s\": \"there is\", \"they`d\": \"they would\",\n",
    "    \"they`d`ve\": \"they would have\", \"they`ll\": \"they will\", \"they`ll`ve\": \"they will have\", \"they`re\": \"they are\", \"they`ve\": \"they have\",\n",
    "    \"to`ve\": \"to have\", \"wasn`t\": \"was not\", \"we`d\": \"we would\", \"we`d`ve\": \"we would have\", \"we`ll\": \"we will\", \"we`ll`ve\": \"we will have\",\n",
    "    \"we`re\": \"we are\", \"we`ve\": \"we have\", \"weren`t\": \"were not\", \"what`ll\": \"what will\", \"what`ll`ve\": \"what will have\", \"what`re\": \"what are\",\n",
    "    \"what`s\": \"what is\", \"what`ve\": \"what have\", \"when`s\": \"when is\", \"when`ve\": \"when have\", \"where`d\": \"where did\", \"where`s\": \"where is\",\n",
    "    \"where`ve\": \"where have\", \"who`ll\": \"who will\", \"who`ll`ve\": \"who will have\", \"who`s\": \"who is\", \"who`ve\": \"who have\", \"why`s\": \"why is\",\n",
    "    \"why`ve\": \"why have\", \"will`ve\": \"will have\", \"won`t\": \"will not\", \"won`t`ve\": \"will not have\", \"would`ve\": \"would have\",\n",
    "    \"wouldn`t\": \"would not\", \"wouldn`t`ve\": \"would not have\", \"y`all\": \"you all\", \"y’all\": \"you all\", \"y`all`d\": \"you all would\",\n",
    "    \"y`all`d`ve\": \"you all would have\", \"y`all`re\": \"you all are\", \"y`all`ve\": \"you all have\", \"you`d\": \"you would\", \"you`d`ve\": \"you would have\",\n",
    "    \"you`ll\": \"you will\", \"you`ll`ve\": \"you will have\", \"you`re\": \"you are\", \"you`ve\": \"you have\", \"ain’t\": \"am not\", \"aren’t\": \"are not\",\n",
    "    \"can’t\": \"cannot\", \"can’t’ve\": \"cannot have\", \"’cause\": \"because\", \"could’ve\": \"could have\", \"couldn’t\": \"could not\", \"couldn’t’ve\": \"could not have\",\n",
    "    \"didn’t\": \"did not\", \"doesn’t\": \"does not\", \"don’t\": \"do not\", \"don’t\": \"do not\", \"hadn’t\": \"had not\", \"hadn’t’ve\": \"had not have\",\n",
    "    \"hasn’t\": \"has not\", \"haven’t\": \"have not\", \"he’d\": \"he had\", \"he’d’ve\": \"he would have\", \"he’ll\": \"he will\", \"he’ll’ve\": \"he will have\",\n",
    "    \"he’s\": \"he is\", \"how’d\": \"how did\", \"how’d’y\": \"how do you\", \"how’ll\": \"how will\", \"how’s\": \"how is\", \"i’d\": \"i would\", \"i’d’ve\": \"i would have\",\n",
    "    \"i’ll\": \"i will\", \"i’ll’ve\": \"i will have\", \"i’m\": \"i am\", \"i`ve\": \"i have\", \"isn’t\": \"is not\", \"it’d\": \"it would\", \"it’d’ve\": \"it would have\",\n",
    "    \"it’ll\": \"it will\", \"it’ll’ve\": \"it will have\", \"it’s\": \"it is\", \"let’s\": \"let us\", \"ma’am\": \"madam\", \"mayn’t\": \"may not\",\n",
    "    \"might’ve\": \"might have\", \"mightn’t\": \"might not\", \"mightn’t’ve\": \"might not have\", \"must’ve\": \"must have\", \"mustn’t\": \"must not\",\n",
    "    \"mustn’t’ve\": \"must not have\", \"needn’t\": \"need not\", \"needn’t’ve\": \"need not have\", \"o’clock\": \"of the clock\",\n",
    "    \"oughtn’t\": \"ought not\", \"oughtn’t’ve\": \"ought not have\", \"shan’t\": \"shall not\", \"sha’n’t\": \"shall not\", \"shan’t’ve\": \"shall not have\",\n",
    "    \"she’d\": \"she would\", \"she’d’ve\": \"she would have\", \"she’ll\": \"she will\", \"she’ll’ve\": \"she will have\", \"she’s\": \"she is\",\n",
    "    \"should’ve\": \"should have\", \"shouldn’t\": \"should not\", \"shouldn’t’ve\": \"should not have\", \"so’ve\": \"so have\", \"so’s\": \"so is\",\n",
    "    \"that’d\": \"that would\", \"that’d’ve\": \"that would have\", \"that’s\": \"that is\", \"there’d\": \"there would\", \"there’d’ve\": \"there would have\",\n",
    "    \"there’s\": \"there is\", \"they’d\": \"they would\", \"they’d’ve\": \"they would have\", \"they’ll\": \"they will\", \"they’ll’ve\": \"they will have\",\n",
    "    \"they’re\": \"they are\", \"they’ve\": \"they have\", \"to’ve\": \"to have\", \"wasn’t\": \"was not\", \"we’d\": \"we would\", \"we’d’ve\": \"we would have\",\n",
    "    \"we’ll\": \"we will\", \"we’ll’ve\": \"we will have\", \"we’re\": \"we are\", \"we’ve\": \"we have\", \"weren’t\": \"were not\", \"what’ll\": \"what will\",\n",
    "    \"what’ll’ve\": \"what will have\", \"what’re\": \"what are\", \"what’s\": \"what is\", \"what’ve\": \"what have\", \"when’s\": \"when is\",\n",
    "    \"when’ve\": \"when have\", \"where’d\": \"where did\", \"where’s\": \"where is\", \"where’ve\": \"where have\", \"who’ll\": \"who will\",\n",
    "    \"who’ll’ve\": \"who will have\", \"who’s\": \"who is\", \"who’ve\": \"who have\",\"why’s\": \"why is\", \"why’ve\": \"why have\", \"will’ve\": \"will have\",\n",
    "    \"won’t\": \"will not\", \"won’t’ve\": \"will not have\", \"would’ve\": \"would have\", \"wouldn’t\": \"would not\", \"wouldn’t’ve\": \"would not have\",\n",
    "    \"y’all\": \"you all\", \"y’all\": \"you all\", \"y’all’d\": \"you all would\", \"y’all’d’ve\": \"you all would have\", \"y’all’re\": \"you all are\",\n",
    "    \"y’all’ve\": \"you all have\", \"you’d\": \"you would\", \"you’d’ve\": \"you would have\", \"you’ll\": \"you will\", \"you’ll’ve\": \"you will have\",\n",
    "    \"you’re\": \"you are\", \"you’re\": \"you are\", \"you’ve\": \"you have\"\n",
    "}"
   ]
  },
  {
   "cell_type": "code",
   "execution_count": 6,
   "id": "breathing-world",
   "metadata": {
    "execution": {
     "iopub.execute_input": "2021-04-20T17:40:14.177392Z",
     "iopub.status.busy": "2021-04-20T17:40:14.176713Z",
     "iopub.status.idle": "2021-04-20T17:40:14.179501Z",
     "shell.execute_reply": "2021-04-20T17:40:14.178981Z"
    },
    "papermill": {
     "duration": 0.026949,
     "end_time": "2021-04-20T17:40:14.179601",
     "exception": false,
     "start_time": "2021-04-20T17:40:14.152652",
     "status": "completed"
    },
    "tags": []
   },
   "outputs": [],
   "source": [
    "# Preprocessing\n",
    "def expand_contractions(s, contractions_dict=contractions_dict):\n",
    "    def replace(match):\n",
    "        return contractions_dict[match.group(0)]\n",
    "    return contractions_re.sub(replace, s)\n",
    "\n",
    "contractions_re = re.compile('(%s)' % '|'.join(contractions_dict.keys()))\n",
    "\n",
    "def preprocessing(df):\n",
    "    \n",
    "    df['text'] = df['text'].astype(str)\n",
    "    df['selected_text'] = df['selected_text'].astype(str)\n",
    "    df['text'] = df['text'].str.lower()\n",
    "    df['selected_text'] = df['selected_text'].str.lower()\n",
    "\n",
    "    df['text'] = df['text'].apply(lambda x: expand_contractions(x))\n",
    "    df['selected_text'] = df['selected_text'].apply(lambda x: expand_contractions(x))\n",
    "    \n",
    "    return df"
   ]
  },
  {
   "cell_type": "code",
   "execution_count": 7,
   "id": "received-klein",
   "metadata": {
    "execution": {
     "iopub.execute_input": "2021-04-20T17:40:14.209867Z",
     "iopub.status.busy": "2021-04-20T17:40:14.209221Z",
     "iopub.status.idle": "2021-04-20T17:40:14.212062Z",
     "shell.execute_reply": "2021-04-20T17:40:14.211562Z"
    },
    "papermill": {
     "duration": 0.020495,
     "end_time": "2021-04-20T17:40:14.212159",
     "exception": false,
     "start_time": "2021-04-20T17:40:14.191664",
     "status": "completed"
    },
    "tags": []
   },
   "outputs": [],
   "source": [
    "# model\n",
    "class TweetModel(nn.Module):\n",
    "    def __init__(self):\n",
    "        super(TweetModel, self).__init__()\n",
    "        self.bert = transformers.BertModel.from_pretrained(config.BERT_PATH)\n",
    "#         self.drop_out = nn.Dropout(0.1)\n",
    "        self.l0 = nn.Linear(768, 2)\n",
    "    \n",
    "    def forward(self, ids, mask, token_type_ids):\n",
    "        sequence_output, pooled_output = self.bert(\n",
    "            ids,\n",
    "            attention_mask=mask,\n",
    "            return_dict=False,\n",
    "            token_type_ids=token_type_ids\n",
    "        )\n",
    "\n",
    "        logits = self.l0(sequence_output)\n",
    "\n",
    "        start_logits, end_logits = logits.split(1, dim=-1)\n",
    "\n",
    "        start_logits = start_logits.squeeze(-1)\n",
    "        end_logits = end_logits.squeeze(-1)\n",
    "\n",
    "        return start_logits, end_logits"
   ]
  },
  {
   "cell_type": "code",
   "execution_count": 8,
   "id": "fewer-scanner",
   "metadata": {
    "execution": {
     "iopub.execute_input": "2021-04-20T17:40:14.244656Z",
     "iopub.status.busy": "2021-04-20T17:40:14.244019Z",
     "iopub.status.idle": "2021-04-20T17:40:14.246877Z",
     "shell.execute_reply": "2021-04-20T17:40:14.246490Z"
    },
    "papermill": {
     "duration": 0.021407,
     "end_time": "2021-04-20T17:40:14.246987",
     "exception": false,
     "start_time": "2021-04-20T17:40:14.225580",
     "status": "completed"
    },
    "tags": []
   },
   "outputs": [],
   "source": [
    "# utils\n",
    "class AverageMeter:\n",
    "    \"\"\"Computes and stores the average and current value\"\"\"\n",
    "    def __init__(self):\n",
    "        self.reset()\n",
    "\n",
    "    def reset(self):\n",
    "        self.val = 0\n",
    "        self.avg = 0\n",
    "        self.sum = 0\n",
    "        self.count = 0\n",
    "\n",
    "    def update(self, val, n=1):\n",
    "        self.val = val\n",
    "        self.sum += val * n\n",
    "        self.count += n\n",
    "        self.avg = self.sum / self.count\n",
    "\n",
    "class utils:\n",
    "    def jaccard(str1, str2): \n",
    "        a = set(str1.lower().split()) \n",
    "        b = set(str2.lower().split())\n",
    "        c = a.intersection(b)\n",
    "        return float(len(c)) / (len(a) + len(b) - len(c))"
   ]
  },
  {
   "cell_type": "code",
   "execution_count": 9,
   "id": "answering-penguin",
   "metadata": {
    "execution": {
     "iopub.execute_input": "2021-04-20T17:40:14.285578Z",
     "iopub.status.busy": "2021-04-20T17:40:14.284704Z",
     "iopub.status.idle": "2021-04-20T17:40:14.297658Z",
     "shell.execute_reply": "2021-04-20T17:40:14.297264Z"
    },
    "papermill": {
     "duration": 0.038449,
     "end_time": "2021-04-20T17:40:14.297757",
     "exception": false,
     "start_time": "2021-04-20T17:40:14.259308",
     "status": "completed"
    },
    "tags": []
   },
   "outputs": [],
   "source": [
    "# engine\n",
    "\n",
    "def loss_fn(o1, o2, t1, t2):\n",
    "    l1 = nn.BCEWithLogitsLoss()(o1, t1)\n",
    "    l2 = nn.BCEWithLogitsLoss()(o2, t2)\n",
    "    return l1 + l2\n",
    "\n",
    "def train_fn(data_loader, model, optimizer, device, scheduler):\n",
    "    model.train()\n",
    "    losses = AverageMeter()\n",
    "    tk0 = tqdm(data_loader, total = len(data_loader))\n",
    "    for bi, d in enumerate(tk0):\n",
    "        ids = d[\"ids\"]\n",
    "        token_type_ids = d[\"token_type_ids\"]\n",
    "        mask = d[\"mask\"]\n",
    "        targets_start = d[\"targets_start\"]\n",
    "        targets_end = d[\"targets_end\"]\n",
    "        \n",
    "        ids = ids.to(device, dtype = torch.long)\n",
    "        token_type_ids = token_type_ids.to(device, dtype = torch.long)\n",
    "        mask = mask.to(device, dtype = torch.long)\n",
    "        targets_start = targets_start.to(device, dtype = torch.float)\n",
    "        targets_end = targets_end.to(device, dtype = torch.float)\n",
    "        \n",
    "        optimizer.zero_grad()\n",
    "        \n",
    "        o1, o2 = model(\n",
    "            ids = ids,\n",
    "            mask = mask,\n",
    "            token_type_ids = token_type_ids\n",
    "            )\n",
    "        \n",
    "        loss = loss_fn(o1, o2, targets_start, targets_end)\n",
    "        loss.backward()\n",
    "        optimizer.step()\n",
    "        scheduler.step()\n",
    "        losses.update(loss.item(), ids.size(0))\n",
    "        tk0.set_postfix(loss = losses.avg)\n",
    "\n",
    "def eval_fn(data_loader, model, device):\n",
    "    model.eval()\n",
    "    \n",
    "    fin_output_start = []\n",
    "    fin_output_end = []\n",
    "    fin_padding_lens = []\n",
    "    fin_tweet_tokens = []\n",
    "    fin_orig_sentiment = []\n",
    "    fin_orig_selected = []\n",
    "    fin_orig_tweet = []\n",
    "    \n",
    "    with torch.no_grad():\n",
    "        for bi, d in enumerate(data_loader):\n",
    "            ids = d['ids']\n",
    "            token_type_ids = d['token_type_ids']\n",
    "            mask = d['mask']\n",
    "            tweet_tokens = d['tweet_tokens']\n",
    "            padding_len = d['padding_len']\n",
    "            orig_sentiment = d['orig_sentiment']\n",
    "            orig_selected = d['orig_selected']\n",
    "            orig_tweet = d['orig_tweet']\n",
    "\n",
    "            ids = ids.to(device, dtype = torch.long)\n",
    "            token_type_ids = token_type_ids.to(device, dtype = torch.long)\n",
    "            mask = mask.to(device, dtype = torch.long)\n",
    "\n",
    "            o1, o2 = model(\n",
    "                ids = ids,\n",
    "                mask = mask,\n",
    "                token_type_ids = token_type_ids\n",
    "                )\n",
    "\n",
    "            fin_output_start.append(torch.sigmoid(o1).cpu().detach().numpy())\n",
    "            fin_output_end.append(torch.sigmoid(o2).cpu().detach().numpy())\n",
    "            fin_padding_lens.extend(padding_len.cpu().detach().numpy())\n",
    "\n",
    "            fin_tweet_tokens.extend(tweet_tokens)\n",
    "            fin_orig_sentiment.extend(orig_sentiment)\n",
    "            fin_orig_selected.extend(orig_selected)\n",
    "            fin_orig_tweet.extend(orig_tweet)\n",
    "\n",
    "        fin_output_start = np.vstack(fin_output_start)\n",
    "        fin_output_end = np.vstack(fin_output_end)\n",
    "\n",
    "        threshold = 0.3\n",
    "        jaccards = []\n",
    "        out = []\n",
    "\n",
    "        for j in range(len(fin_tweet_tokens)):\n",
    "            target_string = fin_orig_selected[j]\n",
    "            tweet_tokens = fin_tweet_tokens[j]\n",
    "            padding_len = fin_padding_lens[j]\n",
    "            original_tweet = fin_orig_tweet[j]\n",
    "            sentiment = fin_orig_sentiment[j]\n",
    "            \n",
    "            if padding_len>0:\n",
    "                mask_start = fin_output_start[j,:][0: -padding_len] >= threshold\n",
    "                mask_end = fin_output_end[j,:][0: -padding_len] >= threshold\n",
    "            else:\n",
    "                mask_start = fin_output_start[j,:] >= threshold\n",
    "                mask_end = fin_output_end[j,:] >= threshold\n",
    "                \n",
    "            mask = [0]*len(mask_start)\n",
    "            idx_start = np.nonzero(mask_start)[0]\n",
    "            idx_end = np.nonzero(mask_end)[0]\n",
    "        \n",
    "            if len(idx_start) > 0:\n",
    "                idx_start = idx_start[0]\n",
    "                if len(idx_end) > 0:\n",
    "                    idx_end = idx_end[0]\n",
    "                else:\n",
    "                    idx_end = idx_start\n",
    "            else:\n",
    "                idx_start = 0\n",
    "                idx_end = 0\n",
    "            \n",
    "            for mj in range(idx_start, idx_end + 1):\n",
    "                mask[mj] = 1\n",
    "            \n",
    "            output_token = [x for p, x in enumerate(tweet_tokens.split()) if mask[p] == 1]\n",
    "            output_token = [x for x in output_token if x not in (\"[CLS]\", \"[SEP]\")]\n",
    "            \n",
    "            final_output = \"\"\n",
    "            for ot in output_token:\n",
    "                if ot.startswith(\"##\"):\n",
    "                    final_output = final_output + ot[2:]\n",
    "                elif len(ot) == 1 and ot in string.punctuation:\n",
    "                    final_output = final_output + ot\n",
    "                else:\n",
    "                    final_output = final_output + \" \" + ot\n",
    "            \n",
    "            final_output = final_output.strip()\n",
    "            \n",
    "            if sentiment == 'neutral' or len(original_tweet.split()) < 4:\n",
    "                final_output = original_tweet\n",
    "            \n",
    "            jac = utils.jaccard(target_string.strip(), final_output.strip())\n",
    "            jaccards.append(jac)\n",
    "            \n",
    "            out.append(final_output)\n",
    "        \n",
    "        mean_jac = np.mean(jaccards)\n",
    "        return mean_jac, out"
   ]
  },
  {
   "cell_type": "code",
   "execution_count": 10,
   "id": "surrounded-hierarchy",
   "metadata": {
    "execution": {
     "iopub.execute_input": "2021-04-20T17:40:14.332994Z",
     "iopub.status.busy": "2021-04-20T17:40:14.332352Z",
     "iopub.status.idle": "2021-04-20T17:40:14.335164Z",
     "shell.execute_reply": "2021-04-20T17:40:14.334676Z"
    },
    "papermill": {
     "duration": 0.024952,
     "end_time": "2021-04-20T17:40:14.335276",
     "exception": false,
     "start_time": "2021-04-20T17:40:14.310324",
     "status": "completed"
    },
    "tags": []
   },
   "outputs": [],
   "source": [
    "# train\n",
    "def run():\n",
    "    dfx = pd.read_csv(config.TRAINING_FILE).dropna()\n",
    "    \n",
    "    dfx = preprocessing(dfx)\n",
    "    df_train, df_valid = model_selection.train_test_split(\n",
    "        dfx,\n",
    "        test_size = 0.1,\n",
    "        random_state = 42,\n",
    "        stratify = dfx.sentiment.values\n",
    "        )\n",
    "    \n",
    "    df_train = df_train.reset_index(drop = True)\n",
    "    df_valid = df_valid.reset_index(drop = True)\n",
    "    \n",
    "    train_dataset = TweetDataset(\n",
    "        tweet = df_train.text.values,\n",
    "        sentiment = df_train.sentiment.values,\n",
    "        selected_text = df_train.selected_text.values\n",
    "    )\n",
    "    \n",
    "    train_data_loader = torch.utils.data.DataLoader(\n",
    "        train_dataset,\n",
    "        batch_size = config.TRAIN_BATCH_SIZE,\n",
    "        num_workers = 4\n",
    "    )\n",
    "    \n",
    "    valid_dataset = TweetDataset(\n",
    "        tweet = df_valid.text.values,\n",
    "        sentiment = df_valid.sentiment.values,\n",
    "        selected_text = df_valid.selected_text.values\n",
    "    )\n",
    "    \n",
    "    valid_data_loader = torch.utils.data.DataLoader(\n",
    "        valid_dataset,\n",
    "        batch_size = config.TRAIN_BATCH_SIZE,\n",
    "        num_workers = 1\n",
    "    )\n",
    "    \n",
    "    device = torch.device('cuda')\n",
    "    model = TweetModel()\n",
    "    model.to(device)\n",
    "    \n",
    "    num_train_steps = int(len(df_train) / config.TRAIN_BATCH_SIZE * config.EPOCHS)\n",
    "    \n",
    "    optimizer = AdamW(model.parameters(), lr = 2e-5)\n",
    "    scheduler = get_linear_schedule_with_warmup(\n",
    "        optimizer,\n",
    "        num_warmup_steps = 0,\n",
    "        num_training_steps = num_train_steps\n",
    "        )\n",
    "    \n",
    "    best_jaccard = 0\n",
    "    for epoch in range(config.EPOCHS):\n",
    "        train_fn(train_data_loader, model, optimizer, device, scheduler)\n",
    "        jaccard, _ = eval_fn(valid_data_loader, model, device)\n",
    "        print (\"Epoch -- \", epoch+1)\n",
    "        print (f\"Jaccard Score = {jaccard}\")\n",
    "        if jaccard > best_jaccard:\n",
    "            torch.save(model.state_dict(), config.MODEL_PATH)\n",
    "            best_jaccard = jaccard"
   ]
  },
  {
   "cell_type": "code",
   "execution_count": 11,
   "id": "intellectual-softball",
   "metadata": {
    "execution": {
     "iopub.execute_input": "2021-04-20T17:40:14.365441Z",
     "iopub.status.busy": "2021-04-20T17:40:14.364575Z",
     "iopub.status.idle": "2021-04-20T22:06:03.768683Z",
     "shell.execute_reply": "2021-04-20T22:06:03.767521Z"
    },
    "papermill": {
     "duration": 15949.420978,
     "end_time": "2021-04-20T22:06:03.768818",
     "exception": false,
     "start_time": "2021-04-20T17:40:14.347840",
     "status": "completed"
    },
    "tags": []
   },
   "outputs": [
    {
     "data": {
      "application/vnd.jupyter.widget-view+json": {
       "model_id": "0ffabe68c9334899b956af1b2599c288",
       "version_major": 2,
       "version_minor": 0
      },
      "text/plain": [
       "Downloading:   0%|          | 0.00/433 [00:00<?, ?B/s]"
      ]
     },
     "metadata": {},
     "output_type": "display_data"
    },
    {
     "data": {
      "application/vnd.jupyter.widget-view+json": {
       "model_id": "65f1c849061d4fae8c667fd21f35aba8",
       "version_major": 2,
       "version_minor": 0
      },
      "text/plain": [
       "Downloading:   0%|          | 0.00/440M [00:00<?, ?B/s]"
      ]
     },
     "metadata": {},
     "output_type": "display_data"
    },
    {
     "name": "stderr",
     "output_type": "stream",
     "text": [
      "100%|██████████| 773/773 [05:05<00:00,  2.53it/s, loss=0.0514]\n"
     ]
    },
    {
     "name": "stdout",
     "output_type": "stream",
     "text": [
      "Epoch --  1\n",
      "Jaccard Score = 0.6135085776741219\n"
     ]
    },
    {
     "name": "stderr",
     "output_type": "stream",
     "text": [
      "100%|██████████| 773/773 [05:05<00:00,  2.53it/s, loss=0.0273]\n"
     ]
    },
    {
     "name": "stdout",
     "output_type": "stream",
     "text": [
      "Epoch --  2\n",
      "Jaccard Score = 0.6356119449637566\n"
     ]
    },
    {
     "name": "stderr",
     "output_type": "stream",
     "text": [
      "100%|██████████| 773/773 [05:05<00:00,  2.53it/s, loss=0.0246]\n"
     ]
    },
    {
     "name": "stdout",
     "output_type": "stream",
     "text": [
      "Epoch --  3\n",
      "Jaccard Score = 0.6455099089803653\n"
     ]
    },
    {
     "name": "stderr",
     "output_type": "stream",
     "text": [
      "100%|██████████| 773/773 [05:05<00:00,  2.53it/s, loss=0.0221]\n"
     ]
    },
    {
     "name": "stdout",
     "output_type": "stream",
     "text": [
      "Epoch --  4\n",
      "Jaccard Score = 0.6555047030600513\n"
     ]
    },
    {
     "name": "stderr",
     "output_type": "stream",
     "text": [
      "100%|██████████| 773/773 [05:06<00:00,  2.52it/s, loss=0.0195]\n",
      "  0%|          | 0/773 [00:00<?, ?it/s]"
     ]
    },
    {
     "name": "stdout",
     "output_type": "stream",
     "text": [
      "Epoch --  5\n",
      "Jaccard Score = 0.6544880557234977\n"
     ]
    },
    {
     "name": "stderr",
     "output_type": "stream",
     "text": [
      "100%|██████████| 773/773 [05:06<00:00,  2.52it/s, loss=0.0165]\n"
     ]
    },
    {
     "name": "stdout",
     "output_type": "stream",
     "text": [
      "Epoch --  6\n",
      "Jaccard Score = 0.6583562056163287\n"
     ]
    },
    {
     "name": "stderr",
     "output_type": "stream",
     "text": [
      "100%|██████████| 773/773 [05:06<00:00,  2.52it/s, loss=0.0139]\n",
      "  0%|          | 0/773 [00:00<?, ?it/s]"
     ]
    },
    {
     "name": "stdout",
     "output_type": "stream",
     "text": [
      "Epoch --  7\n",
      "Jaccard Score = 0.6568106261389729\n"
     ]
    },
    {
     "name": "stderr",
     "output_type": "stream",
     "text": [
      "100%|██████████| 773/773 [05:07<00:00,  2.52it/s, loss=0.0114]\n",
      "  0%|          | 0/773 [00:00<?, ?it/s]"
     ]
    },
    {
     "name": "stdout",
     "output_type": "stream",
     "text": [
      "Epoch --  8\n",
      "Jaccard Score = 0.6566552601504377\n"
     ]
    },
    {
     "name": "stderr",
     "output_type": "stream",
     "text": [
      "100%|██████████| 773/773 [05:07<00:00,  2.51it/s, loss=0.00939]\n"
     ]
    },
    {
     "name": "stdout",
     "output_type": "stream",
     "text": [
      "Epoch --  9\n",
      "Jaccard Score = 0.6608508744223028\n"
     ]
    },
    {
     "name": "stderr",
     "output_type": "stream",
     "text": [
      "100%|██████████| 773/773 [05:08<00:00,  2.51it/s, loss=0.00774]\n",
      "  0%|          | 0/773 [00:00<?, ?it/s]"
     ]
    },
    {
     "name": "stdout",
     "output_type": "stream",
     "text": [
      "Epoch --  10\n",
      "Jaccard Score = 0.6554138069557789\n"
     ]
    },
    {
     "name": "stderr",
     "output_type": "stream",
     "text": [
      "100%|██████████| 773/773 [05:08<00:00,  2.51it/s, loss=0.00649]\n",
      "  0%|          | 0/773 [00:00<?, ?it/s]"
     ]
    },
    {
     "name": "stdout",
     "output_type": "stream",
     "text": [
      "Epoch --  11\n",
      "Jaccard Score = 0.6576970026560637\n"
     ]
    },
    {
     "name": "stderr",
     "output_type": "stream",
     "text": [
      "100%|██████████| 773/773 [05:05<00:00,  2.53it/s, loss=0.00537]\n",
      "  0%|          | 0/773 [00:00<?, ?it/s]"
     ]
    },
    {
     "name": "stdout",
     "output_type": "stream",
     "text": [
      "Epoch --  12\n",
      "Jaccard Score = 0.6558390749698537\n"
     ]
    },
    {
     "name": "stderr",
     "output_type": "stream",
     "text": [
      "100%|██████████| 773/773 [05:06<00:00,  2.52it/s, loss=0.00457]\n",
      "  0%|          | 0/773 [00:00<?, ?it/s]"
     ]
    },
    {
     "name": "stdout",
     "output_type": "stream",
     "text": [
      "Epoch --  13\n",
      "Jaccard Score = 0.6553891178619283\n"
     ]
    },
    {
     "name": "stderr",
     "output_type": "stream",
     "text": [
      "100%|██████████| 773/773 [05:06<00:00,  2.52it/s, loss=0.00392]\n",
      "  0%|          | 0/773 [00:00<?, ?it/s]"
     ]
    },
    {
     "name": "stdout",
     "output_type": "stream",
     "text": [
      "Epoch --  14\n",
      "Jaccard Score = 0.655557397743887\n"
     ]
    },
    {
     "name": "stderr",
     "output_type": "stream",
     "text": [
      "100%|██████████| 773/773 [05:06<00:00,  2.52it/s, loss=0.00342]\n",
      "  0%|          | 0/773 [00:00<?, ?it/s]"
     ]
    },
    {
     "name": "stdout",
     "output_type": "stream",
     "text": [
      "Epoch --  15\n",
      "Jaccard Score = 0.6544803002581422\n"
     ]
    },
    {
     "name": "stderr",
     "output_type": "stream",
     "text": [
      "100%|██████████| 773/773 [05:07<00:00,  2.51it/s, loss=0.00298]\n",
      "  0%|          | 0/773 [00:00<?, ?it/s]"
     ]
    },
    {
     "name": "stdout",
     "output_type": "stream",
     "text": [
      "Epoch --  16\n",
      "Jaccard Score = 0.6500904691515337\n"
     ]
    },
    {
     "name": "stderr",
     "output_type": "stream",
     "text": [
      "100%|██████████| 773/773 [05:06<00:00,  2.52it/s, loss=0.00259]\n",
      "  0%|          | 0/773 [00:00<?, ?it/s]"
     ]
    },
    {
     "name": "stdout",
     "output_type": "stream",
     "text": [
      "Epoch --  17\n",
      "Jaccard Score = 0.6525898946460472\n"
     ]
    },
    {
     "name": "stderr",
     "output_type": "stream",
     "text": [
      "100%|██████████| 773/773 [05:06<00:00,  2.52it/s, loss=0.00234]\n",
      "  0%|          | 0/773 [00:00<?, ?it/s]"
     ]
    },
    {
     "name": "stdout",
     "output_type": "stream",
     "text": [
      "Epoch --  18\n",
      "Jaccard Score = 0.6558543504210026\n"
     ]
    },
    {
     "name": "stderr",
     "output_type": "stream",
     "text": [
      "100%|██████████| 773/773 [05:07<00:00,  2.51it/s, loss=0.00211]\n",
      "  0%|          | 0/773 [00:00<?, ?it/s]"
     ]
    },
    {
     "name": "stdout",
     "output_type": "stream",
     "text": [
      "Epoch --  19\n",
      "Jaccard Score = 0.6490588123291657\n"
     ]
    },
    {
     "name": "stderr",
     "output_type": "stream",
     "text": [
      "100%|██████████| 773/773 [05:07<00:00,  2.51it/s, loss=0.00187]\n",
      "  0%|          | 0/773 [00:00<?, ?it/s]"
     ]
    },
    {
     "name": "stdout",
     "output_type": "stream",
     "text": [
      "Epoch --  20\n",
      "Jaccard Score = 0.647828283544292\n"
     ]
    },
    {
     "name": "stderr",
     "output_type": "stream",
     "text": [
      "100%|██████████| 773/773 [05:07<00:00,  2.51it/s, loss=0.00174]\n",
      "  0%|          | 0/773 [00:00<?, ?it/s]"
     ]
    },
    {
     "name": "stdout",
     "output_type": "stream",
     "text": [
      "Epoch --  21\n",
      "Jaccard Score = 0.6578793379306374\n"
     ]
    },
    {
     "name": "stderr",
     "output_type": "stream",
     "text": [
      "100%|██████████| 773/773 [05:07<00:00,  2.52it/s, loss=0.00152]\n",
      "  0%|          | 0/773 [00:00<?, ?it/s]"
     ]
    },
    {
     "name": "stdout",
     "output_type": "stream",
     "text": [
      "Epoch --  22\n",
      "Jaccard Score = 0.6560437073629459\n"
     ]
    },
    {
     "name": "stderr",
     "output_type": "stream",
     "text": [
      "100%|██████████| 773/773 [05:07<00:00,  2.52it/s, loss=0.0014]\n",
      "  0%|          | 0/773 [00:00<?, ?it/s]"
     ]
    },
    {
     "name": "stdout",
     "output_type": "stream",
     "text": [
      "Epoch --  23\n",
      "Jaccard Score = 0.6537101812562314\n"
     ]
    },
    {
     "name": "stderr",
     "output_type": "stream",
     "text": [
      "100%|██████████| 773/773 [05:06<00:00,  2.52it/s, loss=0.00138]\n",
      "  0%|          | 0/773 [00:00<?, ?it/s]"
     ]
    },
    {
     "name": "stdout",
     "output_type": "stream",
     "text": [
      "Epoch --  24\n",
      "Jaccard Score = 0.6503562208936083\n"
     ]
    },
    {
     "name": "stderr",
     "output_type": "stream",
     "text": [
      "100%|██████████| 773/773 [05:06<00:00,  2.52it/s, loss=0.00122]\n",
      "  0%|          | 0/773 [00:00<?, ?it/s]"
     ]
    },
    {
     "name": "stdout",
     "output_type": "stream",
     "text": [
      "Epoch --  25\n",
      "Jaccard Score = 0.6505471349757299\n"
     ]
    },
    {
     "name": "stderr",
     "output_type": "stream",
     "text": [
      "100%|██████████| 773/773 [05:07<00:00,  2.52it/s, loss=0.00114]\n",
      "  0%|          | 0/773 [00:00<?, ?it/s]"
     ]
    },
    {
     "name": "stdout",
     "output_type": "stream",
     "text": [
      "Epoch --  26\n",
      "Jaccard Score = 0.6553455193450562\n"
     ]
    },
    {
     "name": "stderr",
     "output_type": "stream",
     "text": [
      "100%|██████████| 773/773 [05:06<00:00,  2.52it/s, loss=0.00106]\n",
      "  0%|          | 0/773 [00:00<?, ?it/s]"
     ]
    },
    {
     "name": "stdout",
     "output_type": "stream",
     "text": [
      "Epoch --  27\n",
      "Jaccard Score = 0.6514193684264324\n"
     ]
    },
    {
     "name": "stderr",
     "output_type": "stream",
     "text": [
      "100%|██████████| 773/773 [05:06<00:00,  2.52it/s, loss=0.000996]\n",
      "  0%|          | 0/773 [00:00<?, ?it/s]"
     ]
    },
    {
     "name": "stdout",
     "output_type": "stream",
     "text": [
      "Epoch --  28\n",
      "Jaccard Score = 0.65685652568292\n"
     ]
    },
    {
     "name": "stderr",
     "output_type": "stream",
     "text": [
      "100%|██████████| 773/773 [05:06<00:00,  2.52it/s, loss=0.000914]\n",
      "  0%|          | 0/773 [00:00<?, ?it/s]"
     ]
    },
    {
     "name": "stdout",
     "output_type": "stream",
     "text": [
      "Epoch --  29\n",
      "Jaccard Score = 0.6533221762612781\n"
     ]
    },
    {
     "name": "stderr",
     "output_type": "stream",
     "text": [
      "100%|██████████| 773/773 [05:07<00:00,  2.51it/s, loss=0.000823]\n",
      "  0%|          | 0/773 [00:00<?, ?it/s]"
     ]
    },
    {
     "name": "stdout",
     "output_type": "stream",
     "text": [
      "Epoch --  30\n",
      "Jaccard Score = 0.6522970137389222\n"
     ]
    },
    {
     "name": "stderr",
     "output_type": "stream",
     "text": [
      "100%|██████████| 773/773 [05:07<00:00,  2.52it/s, loss=0.000781]\n",
      "  0%|          | 0/773 [00:00<?, ?it/s]"
     ]
    },
    {
     "name": "stdout",
     "output_type": "stream",
     "text": [
      "Epoch --  31\n",
      "Jaccard Score = 0.6545552449627873\n"
     ]
    },
    {
     "name": "stderr",
     "output_type": "stream",
     "text": [
      "100%|██████████| 773/773 [05:06<00:00,  2.52it/s, loss=0.000714]\n",
      "  0%|          | 0/773 [00:00<?, ?it/s]"
     ]
    },
    {
     "name": "stdout",
     "output_type": "stream",
     "text": [
      "Epoch --  32\n",
      "Jaccard Score = 0.6517917623567582\n"
     ]
    },
    {
     "name": "stderr",
     "output_type": "stream",
     "text": [
      "100%|██████████| 773/773 [05:06<00:00,  2.52it/s, loss=0.000681]\n",
      "  0%|          | 0/773 [00:00<?, ?it/s]"
     ]
    },
    {
     "name": "stdout",
     "output_type": "stream",
     "text": [
      "Epoch --  33\n",
      "Jaccard Score = 0.6502437084002477\n"
     ]
    },
    {
     "name": "stderr",
     "output_type": "stream",
     "text": [
      "100%|██████████| 773/773 [05:07<00:00,  2.51it/s, loss=0.000613]\n",
      "  0%|          | 0/773 [00:00<?, ?it/s]"
     ]
    },
    {
     "name": "stdout",
     "output_type": "stream",
     "text": [
      "Epoch --  34\n",
      "Jaccard Score = 0.6548485890432706\n"
     ]
    },
    {
     "name": "stderr",
     "output_type": "stream",
     "text": [
      "100%|██████████| 773/773 [05:06<00:00,  2.52it/s, loss=0.000625]\n",
      "  0%|          | 0/773 [00:00<?, ?it/s]"
     ]
    },
    {
     "name": "stdout",
     "output_type": "stream",
     "text": [
      "Epoch --  35\n",
      "Jaccard Score = 0.6538633629686184\n"
     ]
    },
    {
     "name": "stderr",
     "output_type": "stream",
     "text": [
      "100%|██████████| 773/773 [05:06<00:00,  2.52it/s, loss=0.000553]\n",
      "  0%|          | 0/773 [00:00<?, ?it/s]"
     ]
    },
    {
     "name": "stdout",
     "output_type": "stream",
     "text": [
      "Epoch --  36\n",
      "Jaccard Score = 0.6497744233514712\n"
     ]
    },
    {
     "name": "stderr",
     "output_type": "stream",
     "text": [
      "100%|██████████| 773/773 [05:07<00:00,  2.51it/s, loss=0.000534]\n",
      "  0%|          | 0/773 [00:00<?, ?it/s]"
     ]
    },
    {
     "name": "stdout",
     "output_type": "stream",
     "text": [
      "Epoch --  37\n",
      "Jaccard Score = 0.6533576801166271\n"
     ]
    },
    {
     "name": "stderr",
     "output_type": "stream",
     "text": [
      "100%|██████████| 773/773 [05:07<00:00,  2.51it/s, loss=0.0005]\n",
      "  0%|          | 0/773 [00:00<?, ?it/s]"
     ]
    },
    {
     "name": "stdout",
     "output_type": "stream",
     "text": [
      "Epoch --  38\n",
      "Jaccard Score = 0.6518379715888969\n"
     ]
    },
    {
     "name": "stderr",
     "output_type": "stream",
     "text": [
      "100%|██████████| 773/773 [05:08<00:00,  2.51it/s, loss=0.000476]\n",
      "  0%|          | 0/773 [00:00<?, ?it/s]"
     ]
    },
    {
     "name": "stdout",
     "output_type": "stream",
     "text": [
      "Epoch --  39\n",
      "Jaccard Score = 0.6521802572579011\n"
     ]
    },
    {
     "name": "stderr",
     "output_type": "stream",
     "text": [
      "100%|██████████| 773/773 [05:07<00:00,  2.51it/s, loss=0.000457]\n",
      "  0%|          | 0/773 [00:00<?, ?it/s]"
     ]
    },
    {
     "name": "stdout",
     "output_type": "stream",
     "text": [
      "Epoch --  40\n",
      "Jaccard Score = 0.6580721444159825\n"
     ]
    },
    {
     "name": "stderr",
     "output_type": "stream",
     "text": [
      "100%|██████████| 773/773 [05:07<00:00,  2.51it/s, loss=0.000379]\n",
      "  0%|          | 0/773 [00:00<?, ?it/s]"
     ]
    },
    {
     "name": "stdout",
     "output_type": "stream",
     "text": [
      "Epoch --  41\n",
      "Jaccard Score = 0.6577305165934998\n"
     ]
    },
    {
     "name": "stderr",
     "output_type": "stream",
     "text": [
      "100%|██████████| 773/773 [05:07<00:00,  2.51it/s, loss=0.000379]\n",
      "  0%|          | 0/773 [00:00<?, ?it/s]"
     ]
    },
    {
     "name": "stdout",
     "output_type": "stream",
     "text": [
      "Epoch --  42\n",
      "Jaccard Score = 0.6573580896551469\n"
     ]
    },
    {
     "name": "stderr",
     "output_type": "stream",
     "text": [
      "100%|██████████| 773/773 [05:07<00:00,  2.51it/s, loss=0.000339]\n",
      "  0%|          | 0/773 [00:00<?, ?it/s]"
     ]
    },
    {
     "name": "stdout",
     "output_type": "stream",
     "text": [
      "Epoch --  43\n",
      "Jaccard Score = 0.658617920694321\n"
     ]
    },
    {
     "name": "stderr",
     "output_type": "stream",
     "text": [
      "100%|██████████| 773/773 [05:07<00:00,  2.51it/s, loss=0.00033]\n",
      "  0%|          | 0/773 [00:00<?, ?it/s]"
     ]
    },
    {
     "name": "stdout",
     "output_type": "stream",
     "text": [
      "Epoch --  44\n",
      "Jaccard Score = 0.6552329305254257\n"
     ]
    },
    {
     "name": "stderr",
     "output_type": "stream",
     "text": [
      "100%|██████████| 773/773 [05:08<00:00,  2.51it/s, loss=0.000333]\n",
      "  0%|          | 0/773 [00:00<?, ?it/s]"
     ]
    },
    {
     "name": "stdout",
     "output_type": "stream",
     "text": [
      "Epoch --  45\n",
      "Jaccard Score = 0.6551668803100729\n"
     ]
    },
    {
     "name": "stderr",
     "output_type": "stream",
     "text": [
      "100%|██████████| 773/773 [05:06<00:00,  2.52it/s, loss=0.000322]\n",
      "  0%|          | 0/773 [00:00<?, ?it/s]"
     ]
    },
    {
     "name": "stdout",
     "output_type": "stream",
     "text": [
      "Epoch --  46\n",
      "Jaccard Score = 0.6560984133866095\n"
     ]
    },
    {
     "name": "stderr",
     "output_type": "stream",
     "text": [
      "100%|██████████| 773/773 [05:06<00:00,  2.52it/s, loss=0.000301]\n",
      "  0%|          | 0/773 [00:00<?, ?it/s]"
     ]
    },
    {
     "name": "stdout",
     "output_type": "stream",
     "text": [
      "Epoch --  47\n",
      "Jaccard Score = 0.6593419129607834\n"
     ]
    },
    {
     "name": "stderr",
     "output_type": "stream",
     "text": [
      "100%|██████████| 773/773 [05:07<00:00,  2.51it/s, loss=0.000289]\n",
      "  0%|          | 0/773 [00:00<?, ?it/s]"
     ]
    },
    {
     "name": "stdout",
     "output_type": "stream",
     "text": [
      "Epoch --  48\n",
      "Jaccard Score = 0.6575475543644635\n"
     ]
    },
    {
     "name": "stderr",
     "output_type": "stream",
     "text": [
      "100%|██████████| 773/773 [05:06<00:00,  2.52it/s, loss=0.000324]\n",
      "  0%|          | 0/773 [00:00<?, ?it/s]"
     ]
    },
    {
     "name": "stdout",
     "output_type": "stream",
     "text": [
      "Epoch --  49\n",
      "Jaccard Score = 0.6555148126774177\n"
     ]
    },
    {
     "name": "stderr",
     "output_type": "stream",
     "text": [
      "100%|██████████| 773/773 [05:06<00:00,  2.52it/s, loss=0.00025]\n"
     ]
    },
    {
     "name": "stdout",
     "output_type": "stream",
     "text": [
      "Epoch --  50\n",
      "Jaccard Score = 0.658301136044717\n"
     ]
    }
   ],
   "source": [
    "run()"
   ]
  },
  {
   "cell_type": "code",
   "execution_count": 12,
   "id": "induced-solution",
   "metadata": {
    "execution": {
     "iopub.execute_input": "2021-04-20T22:06:44.771100Z",
     "iopub.status.busy": "2021-04-20T22:06:44.770544Z",
     "iopub.status.idle": "2021-04-20T22:06:44.794708Z",
     "shell.execute_reply": "2021-04-20T22:06:44.794139Z"
    },
    "papermill": {
     "duration": 20.41808,
     "end_time": "2021-04-20T22:06:44.794831",
     "exception": false,
     "start_time": "2021-04-20T22:06:24.376751",
     "status": "completed"
    },
    "tags": []
   },
   "outputs": [],
   "source": [
    "df_test = pd.read_csv(\"../input/tweet-sentiment-extraction/test.csv\")\n",
    "df_test.loc[:, \"selected_text\"] = df_test.text.values"
   ]
  },
  {
   "cell_type": "code",
   "execution_count": 13,
   "id": "known-surprise",
   "metadata": {
    "execution": {
     "iopub.execute_input": "2021-04-20T22:07:25.871283Z",
     "iopub.status.busy": "2021-04-20T22:07:25.869528Z",
     "iopub.status.idle": "2021-04-20T22:07:25.871890Z",
     "shell.execute_reply": "2021-04-20T22:07:25.872330Z"
    },
    "papermill": {
     "duration": 20.672298,
     "end_time": "2021-04-20T22:07:25.872472",
     "exception": false,
     "start_time": "2021-04-20T22:07:05.200174",
     "status": "completed"
    },
    "tags": []
   },
   "outputs": [],
   "source": [
    "test_dataset = TweetDataset(\n",
    "        tweet=df_test.text.values,\n",
    "        sentiment=df_test.sentiment.values,\n",
    "        selected_text=df_test.selected_text.values\n",
    "    )\n",
    "\n",
    "data_loader = torch.utils.data.DataLoader(\n",
    "    test_dataset,\n",
    "    shuffle=False,\n",
    "    batch_size=32,\n",
    "    num_workers=1\n",
    ")\n",
    "device = 'cpu'"
   ]
  },
  {
   "cell_type": "code",
   "execution_count": 14,
   "id": "liable-liechtenstein",
   "metadata": {
    "execution": {
     "iopub.execute_input": "2021-04-20T22:08:07.049368Z",
     "iopub.status.busy": "2021-04-20T22:08:07.048783Z",
     "iopub.status.idle": "2021-04-20T22:08:10.251205Z",
     "shell.execute_reply": "2021-04-20T22:08:10.250548Z"
    },
    "papermill": {
     "duration": 24.123241,
     "end_time": "2021-04-20T22:08:10.251351",
     "exception": false,
     "start_time": "2021-04-20T22:07:46.128110",
     "status": "completed"
    },
    "tags": []
   },
   "outputs": [
    {
     "data": {
      "text/plain": [
       "TweetModel(\n",
       "  (bert): BertModel(\n",
       "    (embeddings): BertEmbeddings(\n",
       "      (word_embeddings): Embedding(30522, 768, padding_idx=0)\n",
       "      (position_embeddings): Embedding(512, 768)\n",
       "      (token_type_embeddings): Embedding(2, 768)\n",
       "      (LayerNorm): LayerNorm((768,), eps=1e-12, elementwise_affine=True)\n",
       "      (dropout): Dropout(p=0.1, inplace=False)\n",
       "    )\n",
       "    (encoder): BertEncoder(\n",
       "      (layer): ModuleList(\n",
       "        (0): BertLayer(\n",
       "          (attention): BertAttention(\n",
       "            (self): BertSelfAttention(\n",
       "              (query): Linear(in_features=768, out_features=768, bias=True)\n",
       "              (key): Linear(in_features=768, out_features=768, bias=True)\n",
       "              (value): Linear(in_features=768, out_features=768, bias=True)\n",
       "              (dropout): Dropout(p=0.1, inplace=False)\n",
       "            )\n",
       "            (output): BertSelfOutput(\n",
       "              (dense): Linear(in_features=768, out_features=768, bias=True)\n",
       "              (LayerNorm): LayerNorm((768,), eps=1e-12, elementwise_affine=True)\n",
       "              (dropout): Dropout(p=0.1, inplace=False)\n",
       "            )\n",
       "          )\n",
       "          (intermediate): BertIntermediate(\n",
       "            (dense): Linear(in_features=768, out_features=3072, bias=True)\n",
       "          )\n",
       "          (output): BertOutput(\n",
       "            (dense): Linear(in_features=3072, out_features=768, bias=True)\n",
       "            (LayerNorm): LayerNorm((768,), eps=1e-12, elementwise_affine=True)\n",
       "            (dropout): Dropout(p=0.1, inplace=False)\n",
       "          )\n",
       "        )\n",
       "        (1): BertLayer(\n",
       "          (attention): BertAttention(\n",
       "            (self): BertSelfAttention(\n",
       "              (query): Linear(in_features=768, out_features=768, bias=True)\n",
       "              (key): Linear(in_features=768, out_features=768, bias=True)\n",
       "              (value): Linear(in_features=768, out_features=768, bias=True)\n",
       "              (dropout): Dropout(p=0.1, inplace=False)\n",
       "            )\n",
       "            (output): BertSelfOutput(\n",
       "              (dense): Linear(in_features=768, out_features=768, bias=True)\n",
       "              (LayerNorm): LayerNorm((768,), eps=1e-12, elementwise_affine=True)\n",
       "              (dropout): Dropout(p=0.1, inplace=False)\n",
       "            )\n",
       "          )\n",
       "          (intermediate): BertIntermediate(\n",
       "            (dense): Linear(in_features=768, out_features=3072, bias=True)\n",
       "          )\n",
       "          (output): BertOutput(\n",
       "            (dense): Linear(in_features=3072, out_features=768, bias=True)\n",
       "            (LayerNorm): LayerNorm((768,), eps=1e-12, elementwise_affine=True)\n",
       "            (dropout): Dropout(p=0.1, inplace=False)\n",
       "          )\n",
       "        )\n",
       "        (2): BertLayer(\n",
       "          (attention): BertAttention(\n",
       "            (self): BertSelfAttention(\n",
       "              (query): Linear(in_features=768, out_features=768, bias=True)\n",
       "              (key): Linear(in_features=768, out_features=768, bias=True)\n",
       "              (value): Linear(in_features=768, out_features=768, bias=True)\n",
       "              (dropout): Dropout(p=0.1, inplace=False)\n",
       "            )\n",
       "            (output): BertSelfOutput(\n",
       "              (dense): Linear(in_features=768, out_features=768, bias=True)\n",
       "              (LayerNorm): LayerNorm((768,), eps=1e-12, elementwise_affine=True)\n",
       "              (dropout): Dropout(p=0.1, inplace=False)\n",
       "            )\n",
       "          )\n",
       "          (intermediate): BertIntermediate(\n",
       "            (dense): Linear(in_features=768, out_features=3072, bias=True)\n",
       "          )\n",
       "          (output): BertOutput(\n",
       "            (dense): Linear(in_features=3072, out_features=768, bias=True)\n",
       "            (LayerNorm): LayerNorm((768,), eps=1e-12, elementwise_affine=True)\n",
       "            (dropout): Dropout(p=0.1, inplace=False)\n",
       "          )\n",
       "        )\n",
       "        (3): BertLayer(\n",
       "          (attention): BertAttention(\n",
       "            (self): BertSelfAttention(\n",
       "              (query): Linear(in_features=768, out_features=768, bias=True)\n",
       "              (key): Linear(in_features=768, out_features=768, bias=True)\n",
       "              (value): Linear(in_features=768, out_features=768, bias=True)\n",
       "              (dropout): Dropout(p=0.1, inplace=False)\n",
       "            )\n",
       "            (output): BertSelfOutput(\n",
       "              (dense): Linear(in_features=768, out_features=768, bias=True)\n",
       "              (LayerNorm): LayerNorm((768,), eps=1e-12, elementwise_affine=True)\n",
       "              (dropout): Dropout(p=0.1, inplace=False)\n",
       "            )\n",
       "          )\n",
       "          (intermediate): BertIntermediate(\n",
       "            (dense): Linear(in_features=768, out_features=3072, bias=True)\n",
       "          )\n",
       "          (output): BertOutput(\n",
       "            (dense): Linear(in_features=3072, out_features=768, bias=True)\n",
       "            (LayerNorm): LayerNorm((768,), eps=1e-12, elementwise_affine=True)\n",
       "            (dropout): Dropout(p=0.1, inplace=False)\n",
       "          )\n",
       "        )\n",
       "        (4): BertLayer(\n",
       "          (attention): BertAttention(\n",
       "            (self): BertSelfAttention(\n",
       "              (query): Linear(in_features=768, out_features=768, bias=True)\n",
       "              (key): Linear(in_features=768, out_features=768, bias=True)\n",
       "              (value): Linear(in_features=768, out_features=768, bias=True)\n",
       "              (dropout): Dropout(p=0.1, inplace=False)\n",
       "            )\n",
       "            (output): BertSelfOutput(\n",
       "              (dense): Linear(in_features=768, out_features=768, bias=True)\n",
       "              (LayerNorm): LayerNorm((768,), eps=1e-12, elementwise_affine=True)\n",
       "              (dropout): Dropout(p=0.1, inplace=False)\n",
       "            )\n",
       "          )\n",
       "          (intermediate): BertIntermediate(\n",
       "            (dense): Linear(in_features=768, out_features=3072, bias=True)\n",
       "          )\n",
       "          (output): BertOutput(\n",
       "            (dense): Linear(in_features=3072, out_features=768, bias=True)\n",
       "            (LayerNorm): LayerNorm((768,), eps=1e-12, elementwise_affine=True)\n",
       "            (dropout): Dropout(p=0.1, inplace=False)\n",
       "          )\n",
       "        )\n",
       "        (5): BertLayer(\n",
       "          (attention): BertAttention(\n",
       "            (self): BertSelfAttention(\n",
       "              (query): Linear(in_features=768, out_features=768, bias=True)\n",
       "              (key): Linear(in_features=768, out_features=768, bias=True)\n",
       "              (value): Linear(in_features=768, out_features=768, bias=True)\n",
       "              (dropout): Dropout(p=0.1, inplace=False)\n",
       "            )\n",
       "            (output): BertSelfOutput(\n",
       "              (dense): Linear(in_features=768, out_features=768, bias=True)\n",
       "              (LayerNorm): LayerNorm((768,), eps=1e-12, elementwise_affine=True)\n",
       "              (dropout): Dropout(p=0.1, inplace=False)\n",
       "            )\n",
       "          )\n",
       "          (intermediate): BertIntermediate(\n",
       "            (dense): Linear(in_features=768, out_features=3072, bias=True)\n",
       "          )\n",
       "          (output): BertOutput(\n",
       "            (dense): Linear(in_features=3072, out_features=768, bias=True)\n",
       "            (LayerNorm): LayerNorm((768,), eps=1e-12, elementwise_affine=True)\n",
       "            (dropout): Dropout(p=0.1, inplace=False)\n",
       "          )\n",
       "        )\n",
       "        (6): BertLayer(\n",
       "          (attention): BertAttention(\n",
       "            (self): BertSelfAttention(\n",
       "              (query): Linear(in_features=768, out_features=768, bias=True)\n",
       "              (key): Linear(in_features=768, out_features=768, bias=True)\n",
       "              (value): Linear(in_features=768, out_features=768, bias=True)\n",
       "              (dropout): Dropout(p=0.1, inplace=False)\n",
       "            )\n",
       "            (output): BertSelfOutput(\n",
       "              (dense): Linear(in_features=768, out_features=768, bias=True)\n",
       "              (LayerNorm): LayerNorm((768,), eps=1e-12, elementwise_affine=True)\n",
       "              (dropout): Dropout(p=0.1, inplace=False)\n",
       "            )\n",
       "          )\n",
       "          (intermediate): BertIntermediate(\n",
       "            (dense): Linear(in_features=768, out_features=3072, bias=True)\n",
       "          )\n",
       "          (output): BertOutput(\n",
       "            (dense): Linear(in_features=3072, out_features=768, bias=True)\n",
       "            (LayerNorm): LayerNorm((768,), eps=1e-12, elementwise_affine=True)\n",
       "            (dropout): Dropout(p=0.1, inplace=False)\n",
       "          )\n",
       "        )\n",
       "        (7): BertLayer(\n",
       "          (attention): BertAttention(\n",
       "            (self): BertSelfAttention(\n",
       "              (query): Linear(in_features=768, out_features=768, bias=True)\n",
       "              (key): Linear(in_features=768, out_features=768, bias=True)\n",
       "              (value): Linear(in_features=768, out_features=768, bias=True)\n",
       "              (dropout): Dropout(p=0.1, inplace=False)\n",
       "            )\n",
       "            (output): BertSelfOutput(\n",
       "              (dense): Linear(in_features=768, out_features=768, bias=True)\n",
       "              (LayerNorm): LayerNorm((768,), eps=1e-12, elementwise_affine=True)\n",
       "              (dropout): Dropout(p=0.1, inplace=False)\n",
       "            )\n",
       "          )\n",
       "          (intermediate): BertIntermediate(\n",
       "            (dense): Linear(in_features=768, out_features=3072, bias=True)\n",
       "          )\n",
       "          (output): BertOutput(\n",
       "            (dense): Linear(in_features=3072, out_features=768, bias=True)\n",
       "            (LayerNorm): LayerNorm((768,), eps=1e-12, elementwise_affine=True)\n",
       "            (dropout): Dropout(p=0.1, inplace=False)\n",
       "          )\n",
       "        )\n",
       "        (8): BertLayer(\n",
       "          (attention): BertAttention(\n",
       "            (self): BertSelfAttention(\n",
       "              (query): Linear(in_features=768, out_features=768, bias=True)\n",
       "              (key): Linear(in_features=768, out_features=768, bias=True)\n",
       "              (value): Linear(in_features=768, out_features=768, bias=True)\n",
       "              (dropout): Dropout(p=0.1, inplace=False)\n",
       "            )\n",
       "            (output): BertSelfOutput(\n",
       "              (dense): Linear(in_features=768, out_features=768, bias=True)\n",
       "              (LayerNorm): LayerNorm((768,), eps=1e-12, elementwise_affine=True)\n",
       "              (dropout): Dropout(p=0.1, inplace=False)\n",
       "            )\n",
       "          )\n",
       "          (intermediate): BertIntermediate(\n",
       "            (dense): Linear(in_features=768, out_features=3072, bias=True)\n",
       "          )\n",
       "          (output): BertOutput(\n",
       "            (dense): Linear(in_features=3072, out_features=768, bias=True)\n",
       "            (LayerNorm): LayerNorm((768,), eps=1e-12, elementwise_affine=True)\n",
       "            (dropout): Dropout(p=0.1, inplace=False)\n",
       "          )\n",
       "        )\n",
       "        (9): BertLayer(\n",
       "          (attention): BertAttention(\n",
       "            (self): BertSelfAttention(\n",
       "              (query): Linear(in_features=768, out_features=768, bias=True)\n",
       "              (key): Linear(in_features=768, out_features=768, bias=True)\n",
       "              (value): Linear(in_features=768, out_features=768, bias=True)\n",
       "              (dropout): Dropout(p=0.1, inplace=False)\n",
       "            )\n",
       "            (output): BertSelfOutput(\n",
       "              (dense): Linear(in_features=768, out_features=768, bias=True)\n",
       "              (LayerNorm): LayerNorm((768,), eps=1e-12, elementwise_affine=True)\n",
       "              (dropout): Dropout(p=0.1, inplace=False)\n",
       "            )\n",
       "          )\n",
       "          (intermediate): BertIntermediate(\n",
       "            (dense): Linear(in_features=768, out_features=3072, bias=True)\n",
       "          )\n",
       "          (output): BertOutput(\n",
       "            (dense): Linear(in_features=3072, out_features=768, bias=True)\n",
       "            (LayerNorm): LayerNorm((768,), eps=1e-12, elementwise_affine=True)\n",
       "            (dropout): Dropout(p=0.1, inplace=False)\n",
       "          )\n",
       "        )\n",
       "        (10): BertLayer(\n",
       "          (attention): BertAttention(\n",
       "            (self): BertSelfAttention(\n",
       "              (query): Linear(in_features=768, out_features=768, bias=True)\n",
       "              (key): Linear(in_features=768, out_features=768, bias=True)\n",
       "              (value): Linear(in_features=768, out_features=768, bias=True)\n",
       "              (dropout): Dropout(p=0.1, inplace=False)\n",
       "            )\n",
       "            (output): BertSelfOutput(\n",
       "              (dense): Linear(in_features=768, out_features=768, bias=True)\n",
       "              (LayerNorm): LayerNorm((768,), eps=1e-12, elementwise_affine=True)\n",
       "              (dropout): Dropout(p=0.1, inplace=False)\n",
       "            )\n",
       "          )\n",
       "          (intermediate): BertIntermediate(\n",
       "            (dense): Linear(in_features=768, out_features=3072, bias=True)\n",
       "          )\n",
       "          (output): BertOutput(\n",
       "            (dense): Linear(in_features=3072, out_features=768, bias=True)\n",
       "            (LayerNorm): LayerNorm((768,), eps=1e-12, elementwise_affine=True)\n",
       "            (dropout): Dropout(p=0.1, inplace=False)\n",
       "          )\n",
       "        )\n",
       "        (11): BertLayer(\n",
       "          (attention): BertAttention(\n",
       "            (self): BertSelfAttention(\n",
       "              (query): Linear(in_features=768, out_features=768, bias=True)\n",
       "              (key): Linear(in_features=768, out_features=768, bias=True)\n",
       "              (value): Linear(in_features=768, out_features=768, bias=True)\n",
       "              (dropout): Dropout(p=0.1, inplace=False)\n",
       "            )\n",
       "            (output): BertSelfOutput(\n",
       "              (dense): Linear(in_features=768, out_features=768, bias=True)\n",
       "              (LayerNorm): LayerNorm((768,), eps=1e-12, elementwise_affine=True)\n",
       "              (dropout): Dropout(p=0.1, inplace=False)\n",
       "            )\n",
       "          )\n",
       "          (intermediate): BertIntermediate(\n",
       "            (dense): Linear(in_features=768, out_features=3072, bias=True)\n",
       "          )\n",
       "          (output): BertOutput(\n",
       "            (dense): Linear(in_features=3072, out_features=768, bias=True)\n",
       "            (LayerNorm): LayerNorm((768,), eps=1e-12, elementwise_affine=True)\n",
       "            (dropout): Dropout(p=0.1, inplace=False)\n",
       "          )\n",
       "        )\n",
       "      )\n",
       "    )\n",
       "    (pooler): BertPooler(\n",
       "      (dense): Linear(in_features=768, out_features=768, bias=True)\n",
       "      (activation): Tanh()\n",
       "    )\n",
       "  )\n",
       "  (l0): Linear(in_features=768, out_features=2, bias=True)\n",
       ")"
      ]
     },
     "execution_count": 14,
     "metadata": {},
     "output_type": "execute_result"
    }
   ],
   "source": [
    "model = TweetModel()\n",
    "model.load_state_dict(torch.load(config.MODEL_PATH))\n",
    "model.eval()"
   ]
  },
  {
   "cell_type": "code",
   "execution_count": 15,
   "id": "binary-silver",
   "metadata": {
    "execution": {
     "iopub.execute_input": "2021-04-20T22:08:51.049673Z",
     "iopub.status.busy": "2021-04-20T22:08:51.048790Z",
     "iopub.status.idle": "2021-04-20T22:20:00.194011Z",
     "shell.execute_reply": "2021-04-20T22:20:00.192999Z"
    },
    "papermill": {
     "duration": 689.331932,
     "end_time": "2021-04-20T22:20:00.194174",
     "exception": false,
     "start_time": "2021-04-20T22:08:30.862242",
     "status": "completed"
    },
    "tags": []
   },
   "outputs": [],
   "source": [
    "_, out = eval_fn(data_loader, model, device = 'cpu')"
   ]
  },
  {
   "cell_type": "code",
   "execution_count": 16,
   "id": "advanced-humanitarian",
   "metadata": {
    "execution": {
     "iopub.execute_input": "2021-04-20T22:20:41.437728Z",
     "iopub.status.busy": "2021-04-20T22:20:41.437154Z",
     "iopub.status.idle": "2021-04-20T22:20:41.582433Z",
     "shell.execute_reply": "2021-04-20T22:20:41.581916Z"
    },
    "papermill": {
     "duration": 20.673193,
     "end_time": "2021-04-20T22:20:41.582567",
     "exception": false,
     "start_time": "2021-04-20T22:20:20.909374",
     "status": "completed"
    },
    "tags": []
   },
   "outputs": [],
   "source": [
    "sample = pd.read_csv(\"../input/tweet-sentiment-extraction/sample_submission.csv\")\n",
    "sample.loc[:, 'selected_text'] = out\n",
    "sample.to_csv(\"submission.csv\", index=False)"
   ]
  },
  {
   "cell_type": "code",
   "execution_count": null,
   "id": "immune-works",
   "metadata": {
    "papermill": {
     "duration": 20.555721,
     "end_time": "2021-04-20T22:21:22.205078",
     "exception": false,
     "start_time": "2021-04-20T22:21:01.649357",
     "status": "completed"
    },
    "tags": []
   },
   "outputs": [],
   "source": []
  },
  {
   "cell_type": "code",
   "execution_count": null,
   "id": "attractive-marathon",
   "metadata": {
    "papermill": {
     "duration": 20.151706,
     "end_time": "2021-04-20T22:22:03.241553",
     "exception": false,
     "start_time": "2021-04-20T22:21:43.089847",
     "status": "completed"
    },
    "tags": []
   },
   "outputs": [],
   "source": []
  }
 ],
 "metadata": {
  "kernelspec": {
   "display_name": "Python 3",
   "language": "python",
   "name": "python3"
  },
  "language_info": {
   "codemirror_mode": {
    "name": "ipython",
    "version": 3
   },
   "file_extension": ".py",
   "mimetype": "text/x-python",
   "name": "python",
   "nbconvert_exporter": "python",
   "pygments_lexer": "ipython3",
   "version": "3.7.9"
  },
  "papermill": {
   "default_parameters": {},
   "duration": 16945.496418,
   "end_time": "2021-04-20T22:22:26.118617",
   "environment_variables": {},
   "exception": null,
   "input_path": "__notebook__.ipynb",
   "output_path": "__notebook__.ipynb",
   "parameters": {},
   "start_time": "2021-04-20T17:40:00.622199",
   "version": "2.3.2"
  },
  "widgets": {
   "application/vnd.jupyter.widget-state+json": {
    "state": {
     "062a8c839c1348cb9985bc7942013cbc": {
      "model_module": "@jupyter-widgets/controls",
      "model_module_version": "1.5.0",
      "model_name": "HTMLModel",
      "state": {
       "_dom_classes": [],
       "_model_module": "@jupyter-widgets/controls",
       "_model_module_version": "1.5.0",
       "_model_name": "HTMLModel",
       "_view_count": null,
       "_view_module": "@jupyter-widgets/controls",
       "_view_module_version": "1.5.0",
       "_view_name": "HTMLView",
       "description": "",
       "description_tooltip": null,
       "layout": "IPY_MODEL_566c068327e44de7883b84f7830c3100",
       "placeholder": "​",
       "style": "IPY_MODEL_9f6f3f10b90c4b03975096dbe1a49a90",
       "value": " 433/433 [00:00&lt;00:00, 15.5kB/s]"
      }
     },
     "0af3e6d54f4f4bfe9e9c15777092f83d": {
      "model_module": "@jupyter-widgets/controls",
      "model_module_version": "1.5.0",
      "model_name": "HTMLModel",
      "state": {
       "_dom_classes": [],
       "_model_module": "@jupyter-widgets/controls",
       "_model_module_version": "1.5.0",
       "_model_name": "HTMLModel",
       "_view_count": null,
       "_view_module": "@jupyter-widgets/controls",
       "_view_module_version": "1.5.0",
       "_view_name": "HTMLView",
       "description": "",
       "description_tooltip": null,
       "layout": "IPY_MODEL_38143be5940741528b71c39956459ea6",
       "placeholder": "​",
       "style": "IPY_MODEL_3c55a37c6b1d49b0959936609f8d0d40",
       "value": "Downloading: 100%"
      }
     },
     "0ffabe68c9334899b956af1b2599c288": {
      "model_module": "@jupyter-widgets/controls",
      "model_module_version": "1.5.0",
      "model_name": "HBoxModel",
      "state": {
       "_dom_classes": [],
       "_model_module": "@jupyter-widgets/controls",
       "_model_module_version": "1.5.0",
       "_model_name": "HBoxModel",
       "_view_count": null,
       "_view_module": "@jupyter-widgets/controls",
       "_view_module_version": "1.5.0",
       "_view_name": "HBoxView",
       "box_style": "",
       "children": [
        "IPY_MODEL_3477db28b8614c1590f042edf3d14e13",
        "IPY_MODEL_32fbd760f89040e7abf4ea698476fd93",
        "IPY_MODEL_062a8c839c1348cb9985bc7942013cbc"
       ],
       "layout": "IPY_MODEL_cf8848f62c574dedb02bec30e60a9d89"
      }
     },
     "161df0f76d6243b59525c6bcca52e58c": {
      "model_module": "@jupyter-widgets/controls",
      "model_module_version": "1.5.0",
      "model_name": "FloatProgressModel",
      "state": {
       "_dom_classes": [],
       "_model_module": "@jupyter-widgets/controls",
       "_model_module_version": "1.5.0",
       "_model_name": "FloatProgressModel",
       "_view_count": null,
       "_view_module": "@jupyter-widgets/controls",
       "_view_module_version": "1.5.0",
       "_view_name": "ProgressView",
       "bar_style": "success",
       "description": "",
       "description_tooltip": null,
       "layout": "IPY_MODEL_79ce7ddaa8e84ea780719f3ac0272411",
       "max": 440473133.0,
       "min": 0.0,
       "orientation": "horizontal",
       "style": "IPY_MODEL_5dd0133b2bb3430babc7d050a6553cd2",
       "value": 440473133.0
      }
     },
     "2392f43bc0ea4613b9de36d70a9a639a": {
      "model_module": "@jupyter-widgets/base",
      "model_module_version": "1.2.0",
      "model_name": "LayoutModel",
      "state": {
       "_model_module": "@jupyter-widgets/base",
       "_model_module_version": "1.2.0",
       "_model_name": "LayoutModel",
       "_view_count": null,
       "_view_module": "@jupyter-widgets/base",
       "_view_module_version": "1.2.0",
       "_view_name": "LayoutView",
       "align_content": null,
       "align_items": null,
       "align_self": null,
       "border": null,
       "bottom": null,
       "display": null,
       "flex": null,
       "flex_flow": null,
       "grid_area": null,
       "grid_auto_columns": null,
       "grid_auto_flow": null,
       "grid_auto_rows": null,
       "grid_column": null,
       "grid_gap": null,
       "grid_row": null,
       "grid_template_areas": null,
       "grid_template_columns": null,
       "grid_template_rows": null,
       "height": null,
       "justify_content": null,
       "justify_items": null,
       "left": null,
       "margin": null,
       "max_height": null,
       "max_width": null,
       "min_height": null,
       "min_width": null,
       "object_fit": null,
       "object_position": null,
       "order": null,
       "overflow": null,
       "overflow_x": null,
       "overflow_y": null,
       "padding": null,
       "right": null,
       "top": null,
       "visibility": null,
       "width": null
      }
     },
     "2dc0014e017945e89e1a13f04b78a335": {
      "model_module": "@jupyter-widgets/base",
      "model_module_version": "1.2.0",
      "model_name": "LayoutModel",
      "state": {
       "_model_module": "@jupyter-widgets/base",
       "_model_module_version": "1.2.0",
       "_model_name": "LayoutModel",
       "_view_count": null,
       "_view_module": "@jupyter-widgets/base",
       "_view_module_version": "1.2.0",
       "_view_name": "LayoutView",
       "align_content": null,
       "align_items": null,
       "align_self": null,
       "border": null,
       "bottom": null,
       "display": null,
       "flex": null,
       "flex_flow": null,
       "grid_area": null,
       "grid_auto_columns": null,
       "grid_auto_flow": null,
       "grid_auto_rows": null,
       "grid_column": null,
       "grid_gap": null,
       "grid_row": null,
       "grid_template_areas": null,
       "grid_template_columns": null,
       "grid_template_rows": null,
       "height": null,
       "justify_content": null,
       "justify_items": null,
       "left": null,
       "margin": null,
       "max_height": null,
       "max_width": null,
       "min_height": null,
       "min_width": null,
       "object_fit": null,
       "object_position": null,
       "order": null,
       "overflow": null,
       "overflow_x": null,
       "overflow_y": null,
       "padding": null,
       "right": null,
       "top": null,
       "visibility": null,
       "width": null
      }
     },
     "32fbd760f89040e7abf4ea698476fd93": {
      "model_module": "@jupyter-widgets/controls",
      "model_module_version": "1.5.0",
      "model_name": "FloatProgressModel",
      "state": {
       "_dom_classes": [],
       "_model_module": "@jupyter-widgets/controls",
       "_model_module_version": "1.5.0",
       "_model_name": "FloatProgressModel",
       "_view_count": null,
       "_view_module": "@jupyter-widgets/controls",
       "_view_module_version": "1.5.0",
       "_view_name": "ProgressView",
       "bar_style": "success",
       "description": "",
       "description_tooltip": null,
       "layout": "IPY_MODEL_7d95ffdb72784b849ee6a81a91f1b1d9",
       "max": 433.0,
       "min": 0.0,
       "orientation": "horizontal",
       "style": "IPY_MODEL_c140b06709a74fd69909346cc67a18e8",
       "value": 433.0
      }
     },
     "3477db28b8614c1590f042edf3d14e13": {
      "model_module": "@jupyter-widgets/controls",
      "model_module_version": "1.5.0",
      "model_name": "HTMLModel",
      "state": {
       "_dom_classes": [],
       "_model_module": "@jupyter-widgets/controls",
       "_model_module_version": "1.5.0",
       "_model_name": "HTMLModel",
       "_view_count": null,
       "_view_module": "@jupyter-widgets/controls",
       "_view_module_version": "1.5.0",
       "_view_name": "HTMLView",
       "description": "",
       "description_tooltip": null,
       "layout": "IPY_MODEL_2392f43bc0ea4613b9de36d70a9a639a",
       "placeholder": "​",
       "style": "IPY_MODEL_53689056f7e649fd8eae41d3497f7f7a",
       "value": "Downloading: 100%"
      }
     },
     "38143be5940741528b71c39956459ea6": {
      "model_module": "@jupyter-widgets/base",
      "model_module_version": "1.2.0",
      "model_name": "LayoutModel",
      "state": {
       "_model_module": "@jupyter-widgets/base",
       "_model_module_version": "1.2.0",
       "_model_name": "LayoutModel",
       "_view_count": null,
       "_view_module": "@jupyter-widgets/base",
       "_view_module_version": "1.2.0",
       "_view_name": "LayoutView",
       "align_content": null,
       "align_items": null,
       "align_self": null,
       "border": null,
       "bottom": null,
       "display": null,
       "flex": null,
       "flex_flow": null,
       "grid_area": null,
       "grid_auto_columns": null,
       "grid_auto_flow": null,
       "grid_auto_rows": null,
       "grid_column": null,
       "grid_gap": null,
       "grid_row": null,
       "grid_template_areas": null,
       "grid_template_columns": null,
       "grid_template_rows": null,
       "height": null,
       "justify_content": null,
       "justify_items": null,
       "left": null,
       "margin": null,
       "max_height": null,
       "max_width": null,
       "min_height": null,
       "min_width": null,
       "object_fit": null,
       "object_position": null,
       "order": null,
       "overflow": null,
       "overflow_x": null,
       "overflow_y": null,
       "padding": null,
       "right": null,
       "top": null,
       "visibility": null,
       "width": null
      }
     },
     "3c55a37c6b1d49b0959936609f8d0d40": {
      "model_module": "@jupyter-widgets/controls",
      "model_module_version": "1.5.0",
      "model_name": "DescriptionStyleModel",
      "state": {
       "_model_module": "@jupyter-widgets/controls",
       "_model_module_version": "1.5.0",
       "_model_name": "DescriptionStyleModel",
       "_view_count": null,
       "_view_module": "@jupyter-widgets/base",
       "_view_module_version": "1.2.0",
       "_view_name": "StyleView",
       "description_width": ""
      }
     },
     "4244f47dbf9a4eaea4b85c3961bc0f04": {
      "model_module": "@jupyter-widgets/controls",
      "model_module_version": "1.5.0",
      "model_name": "DescriptionStyleModel",
      "state": {
       "_model_module": "@jupyter-widgets/controls",
       "_model_module_version": "1.5.0",
       "_model_name": "DescriptionStyleModel",
       "_view_count": null,
       "_view_module": "@jupyter-widgets/base",
       "_view_module_version": "1.2.0",
       "_view_name": "StyleView",
       "description_width": ""
      }
     },
     "53689056f7e649fd8eae41d3497f7f7a": {
      "model_module": "@jupyter-widgets/controls",
      "model_module_version": "1.5.0",
      "model_name": "DescriptionStyleModel",
      "state": {
       "_model_module": "@jupyter-widgets/controls",
       "_model_module_version": "1.5.0",
       "_model_name": "DescriptionStyleModel",
       "_view_count": null,
       "_view_module": "@jupyter-widgets/base",
       "_view_module_version": "1.2.0",
       "_view_name": "StyleView",
       "description_width": ""
      }
     },
     "566c068327e44de7883b84f7830c3100": {
      "model_module": "@jupyter-widgets/base",
      "model_module_version": "1.2.0",
      "model_name": "LayoutModel",
      "state": {
       "_model_module": "@jupyter-widgets/base",
       "_model_module_version": "1.2.0",
       "_model_name": "LayoutModel",
       "_view_count": null,
       "_view_module": "@jupyter-widgets/base",
       "_view_module_version": "1.2.0",
       "_view_name": "LayoutView",
       "align_content": null,
       "align_items": null,
       "align_self": null,
       "border": null,
       "bottom": null,
       "display": null,
       "flex": null,
       "flex_flow": null,
       "grid_area": null,
       "grid_auto_columns": null,
       "grid_auto_flow": null,
       "grid_auto_rows": null,
       "grid_column": null,
       "grid_gap": null,
       "grid_row": null,
       "grid_template_areas": null,
       "grid_template_columns": null,
       "grid_template_rows": null,
       "height": null,
       "justify_content": null,
       "justify_items": null,
       "left": null,
       "margin": null,
       "max_height": null,
       "max_width": null,
       "min_height": null,
       "min_width": null,
       "object_fit": null,
       "object_position": null,
       "order": null,
       "overflow": null,
       "overflow_x": null,
       "overflow_y": null,
       "padding": null,
       "right": null,
       "top": null,
       "visibility": null,
       "width": null
      }
     },
     "5dd0133b2bb3430babc7d050a6553cd2": {
      "model_module": "@jupyter-widgets/controls",
      "model_module_version": "1.5.0",
      "model_name": "ProgressStyleModel",
      "state": {
       "_model_module": "@jupyter-widgets/controls",
       "_model_module_version": "1.5.0",
       "_model_name": "ProgressStyleModel",
       "_view_count": null,
       "_view_module": "@jupyter-widgets/base",
       "_view_module_version": "1.2.0",
       "_view_name": "StyleView",
       "bar_color": null,
       "description_width": ""
      }
     },
     "65f1c849061d4fae8c667fd21f35aba8": {
      "model_module": "@jupyter-widgets/controls",
      "model_module_version": "1.5.0",
      "model_name": "HBoxModel",
      "state": {
       "_dom_classes": [],
       "_model_module": "@jupyter-widgets/controls",
       "_model_module_version": "1.5.0",
       "_model_name": "HBoxModel",
       "_view_count": null,
       "_view_module": "@jupyter-widgets/controls",
       "_view_module_version": "1.5.0",
       "_view_name": "HBoxView",
       "box_style": "",
       "children": [
        "IPY_MODEL_0af3e6d54f4f4bfe9e9c15777092f83d",
        "IPY_MODEL_161df0f76d6243b59525c6bcca52e58c",
        "IPY_MODEL_d1ed815fc9b14a7595155b921b7203c1"
       ],
       "layout": "IPY_MODEL_84c91d3089ae467098ca12d6e4c0e650"
      }
     },
     "79ce7ddaa8e84ea780719f3ac0272411": {
      "model_module": "@jupyter-widgets/base",
      "model_module_version": "1.2.0",
      "model_name": "LayoutModel",
      "state": {
       "_model_module": "@jupyter-widgets/base",
       "_model_module_version": "1.2.0",
       "_model_name": "LayoutModel",
       "_view_count": null,
       "_view_module": "@jupyter-widgets/base",
       "_view_module_version": "1.2.0",
       "_view_name": "LayoutView",
       "align_content": null,
       "align_items": null,
       "align_self": null,
       "border": null,
       "bottom": null,
       "display": null,
       "flex": null,
       "flex_flow": null,
       "grid_area": null,
       "grid_auto_columns": null,
       "grid_auto_flow": null,
       "grid_auto_rows": null,
       "grid_column": null,
       "grid_gap": null,
       "grid_row": null,
       "grid_template_areas": null,
       "grid_template_columns": null,
       "grid_template_rows": null,
       "height": null,
       "justify_content": null,
       "justify_items": null,
       "left": null,
       "margin": null,
       "max_height": null,
       "max_width": null,
       "min_height": null,
       "min_width": null,
       "object_fit": null,
       "object_position": null,
       "order": null,
       "overflow": null,
       "overflow_x": null,
       "overflow_y": null,
       "padding": null,
       "right": null,
       "top": null,
       "visibility": null,
       "width": null
      }
     },
     "7d95ffdb72784b849ee6a81a91f1b1d9": {
      "model_module": "@jupyter-widgets/base",
      "model_module_version": "1.2.0",
      "model_name": "LayoutModel",
      "state": {
       "_model_module": "@jupyter-widgets/base",
       "_model_module_version": "1.2.0",
       "_model_name": "LayoutModel",
       "_view_count": null,
       "_view_module": "@jupyter-widgets/base",
       "_view_module_version": "1.2.0",
       "_view_name": "LayoutView",
       "align_content": null,
       "align_items": null,
       "align_self": null,
       "border": null,
       "bottom": null,
       "display": null,
       "flex": null,
       "flex_flow": null,
       "grid_area": null,
       "grid_auto_columns": null,
       "grid_auto_flow": null,
       "grid_auto_rows": null,
       "grid_column": null,
       "grid_gap": null,
       "grid_row": null,
       "grid_template_areas": null,
       "grid_template_columns": null,
       "grid_template_rows": null,
       "height": null,
       "justify_content": null,
       "justify_items": null,
       "left": null,
       "margin": null,
       "max_height": null,
       "max_width": null,
       "min_height": null,
       "min_width": null,
       "object_fit": null,
       "object_position": null,
       "order": null,
       "overflow": null,
       "overflow_x": null,
       "overflow_y": null,
       "padding": null,
       "right": null,
       "top": null,
       "visibility": null,
       "width": null
      }
     },
     "84c91d3089ae467098ca12d6e4c0e650": {
      "model_module": "@jupyter-widgets/base",
      "model_module_version": "1.2.0",
      "model_name": "LayoutModel",
      "state": {
       "_model_module": "@jupyter-widgets/base",
       "_model_module_version": "1.2.0",
       "_model_name": "LayoutModel",
       "_view_count": null,
       "_view_module": "@jupyter-widgets/base",
       "_view_module_version": "1.2.0",
       "_view_name": "LayoutView",
       "align_content": null,
       "align_items": null,
       "align_self": null,
       "border": null,
       "bottom": null,
       "display": null,
       "flex": null,
       "flex_flow": null,
       "grid_area": null,
       "grid_auto_columns": null,
       "grid_auto_flow": null,
       "grid_auto_rows": null,
       "grid_column": null,
       "grid_gap": null,
       "grid_row": null,
       "grid_template_areas": null,
       "grid_template_columns": null,
       "grid_template_rows": null,
       "height": null,
       "justify_content": null,
       "justify_items": null,
       "left": null,
       "margin": null,
       "max_height": null,
       "max_width": null,
       "min_height": null,
       "min_width": null,
       "object_fit": null,
       "object_position": null,
       "order": null,
       "overflow": null,
       "overflow_x": null,
       "overflow_y": null,
       "padding": null,
       "right": null,
       "top": null,
       "visibility": null,
       "width": null
      }
     },
     "9f6f3f10b90c4b03975096dbe1a49a90": {
      "model_module": "@jupyter-widgets/controls",
      "model_module_version": "1.5.0",
      "model_name": "DescriptionStyleModel",
      "state": {
       "_model_module": "@jupyter-widgets/controls",
       "_model_module_version": "1.5.0",
       "_model_name": "DescriptionStyleModel",
       "_view_count": null,
       "_view_module": "@jupyter-widgets/base",
       "_view_module_version": "1.2.0",
       "_view_name": "StyleView",
       "description_width": ""
      }
     },
     "c140b06709a74fd69909346cc67a18e8": {
      "model_module": "@jupyter-widgets/controls",
      "model_module_version": "1.5.0",
      "model_name": "ProgressStyleModel",
      "state": {
       "_model_module": "@jupyter-widgets/controls",
       "_model_module_version": "1.5.0",
       "_model_name": "ProgressStyleModel",
       "_view_count": null,
       "_view_module": "@jupyter-widgets/base",
       "_view_module_version": "1.2.0",
       "_view_name": "StyleView",
       "bar_color": null,
       "description_width": ""
      }
     },
     "cf8848f62c574dedb02bec30e60a9d89": {
      "model_module": "@jupyter-widgets/base",
      "model_module_version": "1.2.0",
      "model_name": "LayoutModel",
      "state": {
       "_model_module": "@jupyter-widgets/base",
       "_model_module_version": "1.2.0",
       "_model_name": "LayoutModel",
       "_view_count": null,
       "_view_module": "@jupyter-widgets/base",
       "_view_module_version": "1.2.0",
       "_view_name": "LayoutView",
       "align_content": null,
       "align_items": null,
       "align_self": null,
       "border": null,
       "bottom": null,
       "display": null,
       "flex": null,
       "flex_flow": null,
       "grid_area": null,
       "grid_auto_columns": null,
       "grid_auto_flow": null,
       "grid_auto_rows": null,
       "grid_column": null,
       "grid_gap": null,
       "grid_row": null,
       "grid_template_areas": null,
       "grid_template_columns": null,
       "grid_template_rows": null,
       "height": null,
       "justify_content": null,
       "justify_items": null,
       "left": null,
       "margin": null,
       "max_height": null,
       "max_width": null,
       "min_height": null,
       "min_width": null,
       "object_fit": null,
       "object_position": null,
       "order": null,
       "overflow": null,
       "overflow_x": null,
       "overflow_y": null,
       "padding": null,
       "right": null,
       "top": null,
       "visibility": null,
       "width": null
      }
     },
     "d1ed815fc9b14a7595155b921b7203c1": {
      "model_module": "@jupyter-widgets/controls",
      "model_module_version": "1.5.0",
      "model_name": "HTMLModel",
      "state": {
       "_dom_classes": [],
       "_model_module": "@jupyter-widgets/controls",
       "_model_module_version": "1.5.0",
       "_model_name": "HTMLModel",
       "_view_count": null,
       "_view_module": "@jupyter-widgets/controls",
       "_view_module_version": "1.5.0",
       "_view_name": "HTMLView",
       "description": "",
       "description_tooltip": null,
       "layout": "IPY_MODEL_2dc0014e017945e89e1a13f04b78a335",
       "placeholder": "​",
       "style": "IPY_MODEL_4244f47dbf9a4eaea4b85c3961bc0f04",
       "value": " 440M/440M [00:16&lt;00:00, 26.5MB/s]"
      }
     }
    },
    "version_major": 2,
    "version_minor": 0
   }
  }
 },
 "nbformat": 4,
 "nbformat_minor": 5
}
